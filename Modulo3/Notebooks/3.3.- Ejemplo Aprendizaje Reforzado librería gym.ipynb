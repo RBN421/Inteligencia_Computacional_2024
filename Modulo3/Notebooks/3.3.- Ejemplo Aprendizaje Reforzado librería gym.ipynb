{
 "cells": [
  {
   "cell_type": "markdown",
   "id": "bd98cff3",
   "metadata": {},
   "source": [
    "<img style=\"float: left;;\" src='Figures/alinco.png' /></a>\n",
    "# <center> <font color= #000047> Módulo 3: Aprendizaje por Refuerzo Librería GYM"
   ]
  },
  {
   "cell_type": "markdown",
   "id": "a5eada52",
   "metadata": {},
   "source": [
    "En aprendizaje por refuerzo (ó Reinforcement Learning en inglés) no tenemos una “etiqueta de salida”, por lo que no es de tipo supervisado y si bien estos algoritmos aprenden por sí mismos, tampoco son de tipo no supervisado, en donde se intenta clasificar grupos teniendo en cuenta alguna distancia entre muestras.\n",
    "\n",
    "En el mundo real contamos con múltiples variables que por lo general se interrelacionan y que dependen de otras variables y dan lugar a escenarios más grandes en donde tomar decisiones. Para conducir un coche no basta una inteligencia que pueda detectar un semáforo en rojo, verde ó amarillo; tendremos muchísimos factores -todos a la vez- a los que prestar atención: a qué velocidad vamos, estamos ante una curva?, hay peatones?, es de noche y debemos encender las luces?.\n",
    "\n",
    "Una solución sería tener múltiples máquinas de ML supervisadas y que interactúan entre si -y esto no estaría mal- ó podemos cambiar el enfoque… Y ahí aparece el Reinforcement Learning (RL) como una alternativa, tal vez de las más ambiciosas en las que se intenta integrar el Machine Learning en el mundo real, sobre todo aplicado a robots y maquinaria industrial.\n",
    "\n",
    "El **Reinforcement Learning entonces**, intentará hacer aprender a la máquina basándose en un esquema de “premios y castigos” -cómo con el perro de Pablov- en un entorno en donde hay que tomar acciones y que está afectado por múltiples variables que cambian con el tiempo."
   ]
  },
  {
   "cell_type": "markdown",
   "id": "342e94bc",
   "metadata": {},
   "source": [
    "## Componentes del RL\n",
    "\n",
    "El **Reinforcement Learning** propone un nuevo enfoque para hacer que nuestra máquina aprenda, para ello, postula los siguientes 2 componentes:\n",
    "\n",
    "> el `Agente`: será nuestro modelo que queremos entrenar y que aprenda a tomar decisiones.\n",
    "\n",
    "> `Ambiente`: será el entorno en donde interactúa y “se mueve” el agente. El ambiente contiene las limitaciones y reglas posibles a cada momento.\n",
    "\n",
    "Entre ellos hay una relación que se retroalimenta y cuenta con los siguientes nexos:\n",
    "\n",
    "> `Acción`: las posibles acciones que puede tomar en un momento determinado el Agente.\n",
    "\n",
    "> `Estado (del ambiente)`: son los indicadores del ambiente de cómo están los diversos elementos que lo componen en ese momento.\n",
    "\n",
    "> `Recompensas (ó castigos!)`: a raíz de cada acción tomada por el Agente, podremos obtener un premio ó una penalización que orientarán al Agente en si lo está haciendo bien ó mal.\n",
    "\n",
    "![title](Figures/mdp_diagram.svg)"
   ]
  },
  {
   "cell_type": "markdown",
   "id": "2302f887",
   "metadata": {},
   "source": [
    "En un primer momento, el agente recibe un estado inicial y toma una acción con lo cual influye é interviene en el ambiente. Esto está muy bien, pues es muy cierto que cuando tomamos decisiones en el mundo real lo estamos modificando, ¿no?. Y esa decisión tendrá sus consecuencias: en la siguiente iteración el ambiente devolverá al agente el nuevo estado y la recompensa obtenida. Si la recompensa es positiva estaremos reforzando ese comportamiento para el futuro. En cambio si la recompensa es negativa lo estaremos penalizando, para que ante la misma situación el agente actúe de manera distinta. El esquema en el que se apoya el Reinforcement Learning es en el de **Proceso de Decisión de Markov**."
   ]
  },
  {
   "cell_type": "markdown",
   "id": "9ec91e6d",
   "metadata": {},
   "source": [
    "## Q-Learning\n",
    "\n",
    "Ahora vamos a comentar uno de los modelos usados en Reinforcement Learning para poder concretar un ejemplo de su implementación. Es el llamado “Q-Learning”.\n",
    "\n",
    "Repasemos los elementos que tenemos:\n",
    "\n",
    "> Políticas: Es una tabla (aunque puede tener n-dimensiones) que le indicará al modelo “como actuar” en cada estado.\n",
    "\n",
    "> Acciones: las diversas elecciones que puede hacer el agente en cada estado\n",
    "\n",
    "> Recompensas: si sumamos ó restamos puntaje con la acción tomada\n",
    "Comportamiento “avaro” (greedy en inglés) del agente. Es decir, si se dejará llevar por grandes recompensas inmediatas, ó irá explorando y valorando las riquezas a largo plazo\n",
    "\n",
    "El objetivo principal al entrenar nuestro modelo a través de las simulaciones será ir “rellenando” la tabla de Políticas de manera que las decisiones que vaya tomando nuestro agente obtengan “la mayor recompensa” a la vez que avanzamos y no nos quedamos estancados, es decir, pudiendo cumplir el objetivo global (ó final) que deseamos alcanzar.\n",
    "\n",
    "A la política la llamaremos “Q” por lo que:\n",
    "\n",
    "```\n",
    "Q(estado, acción) nos indicará el valor de la política para un estado y una acción determinados.\n",
    "```\n",
    "\n",
    "Y para saber cómo ir completando la tabla de políticas nos valemos de la ecuación de Bellman."
   ]
  },
  {
   "cell_type": "markdown",
   "id": "1bb1a5a3",
   "metadata": {},
   "source": [
    "$$ \\hat{Q}(s,a) = Q(s,a) + \\alpha [R +(\\lambda \\max Q(s')) - Q(s,a)]$$\n",
    "\n",
    "- $Q(s,a)$ valor actual\n",
    "- $\\alpha$ ratio de aprendizaje\n",
    "- $R$ Recompensa\n",
    "- $\\lambda$ tasa descuento\n",
    "- $\\max Q(s')$ valor óptimo esperado\n",
    "- $Q(s,a)$ valor actual\n",
    "\n",
    "La idea es ir actualizando las políticas Q^(s,a) en base al valor actual más una futura recompensa que recibiremos, en caso de tomar dicha acción. Hay dos ratios que afectan a la manera en que influye esa recompensa: el ratio de aprendizaje, que regula “la velocidad” en la que se aprende, y la “tasa de descuento” que tendrá en cuenta la recompensa a corto o largo plazo."
   ]
  },
  {
   "cell_type": "markdown",
   "id": "eaa4744f",
   "metadata": {},
   "source": [
    "## La librería Gym:\n",
    "\n",
    "Gym es una librería para aplicaciones de aprendizaje reforzado. Nos proporciona una interfaz sencilla para un gran número de tareas, entre ellas\n",
    "\n",
    "- Tareas de control clásicas (CartPole, Pendulum, MountainCar, etc.) https://gymnasium.farama.org/environments/classic_control/\n",
    "- Videojuegos clásicos (Space Invaders, Breakout, Pong, etc.)\n",
    "- Tareas de control continuo\n",
    "- Manipulación de brazo robótico\n",
    "\n",
    "En esta sección vamos a familiarizarnos con los cinco métodos que usaremos al resolver un problema de control."
   ]
  },
  {
   "cell_type": "code",
   "execution_count": null,
   "id": "66ccf638",
   "metadata": {},
   "outputs": [],
   "source": [
    "#!pip install gym==0.21.0"
   ]
  },
  {
   "cell_type": "code",
   "execution_count": null,
   "id": "6b055a4c",
   "metadata": {},
   "outputs": [],
   "source": []
  },
  {
   "cell_type": "markdown",
   "id": "193c9966",
   "metadata": {},
   "source": [
    "\n",
    "##### Creando el entorno: Maze()\n",
    "\n",
    "Para crear un entorno, simplemente pase una cadena con su nombre al método gym.make. Si el entorno existe, el método devuelve una instancia de la clase gym.Env, que representa el entorno de la tarea que vamos a resolver."
   ]
  },
  {
   "cell_type": "code",
   "execution_count": null,
   "id": "4d584ee8",
   "metadata": {},
   "outputs": [],
   "source": []
  },
  {
   "cell_type": "markdown",
   "id": "12b35c1a",
   "metadata": {},
   "source": [
    "###### env.reset()\n",
    "\n",
    "Este método pone el entorno en su estado inicial y lo devuelve para que el agente pueda observarlo.\n"
   ]
  },
  {
   "cell_type": "code",
   "execution_count": null,
   "id": "0b056e78",
   "metadata": {},
   "outputs": [],
   "source": []
  },
  {
   "cell_type": "markdown",
   "id": "bacb9991",
   "metadata": {},
   "source": [
    "##### env.render()\n",
    "\n",
    "Este método genera una imagen que representa el estado actual del entorno, en forma de np.ndarray."
   ]
  },
  {
   "cell_type": "code",
   "execution_count": null,
   "id": "4171822d",
   "metadata": {},
   "outputs": [],
   "source": []
  },
  {
   "cell_type": "code",
   "execution_count": null,
   "id": "ee79f977",
   "metadata": {},
   "outputs": [],
   "source": []
  },
  {
   "cell_type": "markdown",
   "id": "a2f6d7f3",
   "metadata": {},
   "source": [
    "##### env.step()\n",
    "\n",
    "Este método aplica la acción seleccionada por el agente en el entorno, para modificarlo. En respuesta, el entorno devuelve una tupla de cuatro objetos:\n",
    "\n",
    "- El siguiente estado\n",
    "- La recompensa obtenida\n",
    "- (bool) si la tarea ha sido completada\n",
    "- cualquier otra información relevante en un diccionario de python"
   ]
  },
  {
   "cell_type": "code",
   "execution_count": null,
   "id": "8d5a62a1",
   "metadata": {},
   "outputs": [],
   "source": []
  },
  {
   "cell_type": "markdown",
   "id": "d3416da5",
   "metadata": {},
   "source": [
    "###### Renderizar el nuevo estado"
   ]
  },
  {
   "cell_type": "code",
   "execution_count": null,
   "id": "ef58c24b",
   "metadata": {},
   "outputs": [],
   "source": []
  },
  {
   "cell_type": "markdown",
   "id": "57c64c52",
   "metadata": {},
   "source": [
    "##### env.close()\n",
    "\n",
    "Completa la tarea y cierra el entorno, liberando los recursos asociados."
   ]
  },
  {
   "cell_type": "code",
   "execution_count": null,
   "id": "884bab6a",
   "metadata": {},
   "outputs": [],
   "source": []
  },
  {
   "cell_type": "markdown",
   "id": "da000168",
   "metadata": {},
   "source": [
    "## Maze environment: Find the exit.\n",
    "\n",
    "\n",
    "In this section we are going to familiarize ourselves with the environment that we'll use in the lessons 2 (dynamic programming), 3 (Monte Carlo methods) and 4 (temporal difference methods). This environment is perfect for learning the basics of Reinforcement Learning because:\n",
    "\n",
    "- It has few states (25)\n",
    "- Transitions between states are deterministic ($p(s', r| s, a) = 1$)\n",
    "- All rewards are the same (-1) until the episode concludes. Thus facilitating the study of the value and action-value functions\n",
    "\n",
    "Through this environment, we are going to review the concepts seen in lesson 1 (The Markov decision process):\n",
    "\n",
    "- States and state space\n",
    "- Actions and action space\n",
    "- Trajectories and episodes\n",
    "- Rewards and returns\n",
    "- Policy\n",
    "\n",
    "\n",
    "The environment is a maze of 5x5 cells, in which the goal of the agent is to find the exit, located in the lower right corner, in the cell (4,4). In the image, the exit is colored in light green.\n",
    "\n",
    "To reach the exit, the agent can take four different actions: move up, move down, move left and move right.\n",
    "\n",
    "\n",
    "En esta sección vamos a familiarizarnos con el entorno para el algoritmo de programación dinámica, métodos Monte Carlo y métodos de diferencia temporal. Este entorno es perfecto para aprender los conceptos básicos del aprendizaje por refuerzo porque:\n",
    "\n",
    "- Tiene pocos estados (25)\n",
    "- Las transiciones entre estados son deterministas ($p(s', r| s, a) = 1$)\n",
    "- Todas las recompensas son iguales (-1) hasta que concluye el episodio. Facilitando así el estudio de las funciones valor y acción-valor\n",
    "\n",
    "A través de este entorno, vamos a repasar los conceptos del proceso de decisión de Markov:\n",
    "\n",
    "- Estados y espacio de estados\n",
    "- Acciones y espacio de acción.\n",
    "- Trayectorias y episodios\n",
    "- Recompensas y devoluciones\n",
    "- Política\n",
    "\n",
    "\n",
    "El entorno es un laberinto de celdas de 5x5, en el que el objetivo del agente es encontrar la salida, ubicada en la esquina inferior derecha, en la celda (4,4). En la imagen, la salida está coloreada en verde claro.\n",
    "\n",
    "Para llegar a la salida, el agente puede realizar cuatro acciones diferentes: moverse hacia arriba, moverse hacia abajo, moverse hacia la izquierda y moverse hacia la derecha."
   ]
  },
  {
   "cell_type": "markdown",
   "id": "30fd30ce",
   "metadata": {},
   "source": [
    "###### Creando el entorno"
   ]
  },
  {
   "cell_type": "code",
   "execution_count": null,
   "id": "5df316aa",
   "metadata": {},
   "outputs": [],
   "source": []
  },
  {
   "cell_type": "markdown",
   "id": "0ce1426b",
   "metadata": {},
   "source": [
    "##### Estados y espacio de estados\n",
    "\n",
    "Los estados consisten en una tupla de dos números enteros, ambos en el rango [0, 4], que representan la fila y la columna en la que se encuentra actualmente el agente:\n",
    "<br>\n",
    "<br>\n",
    "\n",
    "\\begin{equation}\n",
    "    s = (row, column) \\;\\\\\n",
    "    row, column \\in \\{0,1,2,3, 4\\}\n",
    "\\end{equation}\n",
    "<br>\n",
    "<br>\n",
    "El espacio de estado (conjunto de todos los estados posibles en la tarea) tiene 25 elementos (todas las combinaciones posibles de filas y columnas):\n",
    "\n",
    "\n",
    "\\begin{equation}\n",
    "    Rows \\times Columns \\;\\\\\n",
    "    S = \\{(0, 0), (0, 1), (1, 0), ...\\}\n",
    "\\end{equation}\n",
    "\n",
    "La información sobre el espacio de estado se almacena en la propiedad env.observation_space. En este entorno, es de tipo MultiDiscrete([5 5]), lo que significa que consta de dos elementos (filas y columnas), cada uno con 5 valores diferentes."
   ]
  },
  {
   "cell_type": "code",
   "execution_count": null,
   "id": "a013ca85",
   "metadata": {},
   "outputs": [],
   "source": []
  },
  {
   "cell_type": "markdown",
   "id": "5a1b0e62",
   "metadata": {},
   "source": [
    "##### Acciones y espacio de acción\n",
    "\n",
    "En este entorno, hay cuatro acciones diferentes y se representan con números enteros:\n",
    "\n",
    "\\begin{equation}\n",
    "a \\in \\{0, 1, 2, 3\\}\n",
    "\\end{equation}\n",
    "\n",
    "- 0 -> move up\n",
    "- 1 -> move right\n",
    "- 2 -> move down\n",
    "- 3 -> move left\n",
    "\n",
    "Para ejecutar una acción, simplemente pásela como argumento al método env.step. La información sobre el espacio de acción se almacena en la propiedad env.action_space que es de clase Discreto (4). Esto significa que en este caso solo consta de un elemento en el rango [0,4), a diferencia del espacio de estado que se ve arriba.\n"
   ]
  },
  {
   "cell_type": "code",
   "execution_count": null,
   "id": "963f498a",
   "metadata": {},
   "outputs": [],
   "source": []
  },
  {
   "cell_type": "markdown",
   "id": "82f36490",
   "metadata": {},
   "source": [
    "##### Trayectorias y episodios\n",
    "\n",
    "Una trayectoria es la secuencia generada al pasar de un estado a otro (ambos arbitrarios)\n",
    "\\begin{equation}\n",
    "  \\tau = S_0, A_0, R_1, S_1, A_1, ... R_N, S_N,\n",
    "\\end{equation}\n",
    "\n",
    "Generemos una trayectoria de 3 movimientos en código:"
   ]
  },
  {
   "cell_type": "code",
   "execution_count": null,
   "id": "9397e532",
   "metadata": {},
   "outputs": [],
   "source": []
  },
  {
   "cell_type": "markdown",
   "id": "e6bbdb47",
   "metadata": {},
   "source": [
    "Un episodio es una trayectoria que va desde el estado inicial del proceso hasta el final:\n",
    "\n",
    "\\begin{equation}\n",
    "  \\tau = S_0, A_0, R_1, S_1, A_1, ... R_T, S_T,\n",
    "\\end{equation}\n",
    "donde T es el estado terminal.\n",
    "\n",
    "Generemos un episodio completo en código:"
   ]
  },
  {
   "cell_type": "code",
   "execution_count": null,
   "id": "623606f9",
   "metadata": {},
   "outputs": [],
   "source": []
  },
  {
   "cell_type": "markdown",
   "id": "1a1a98eb",
   "metadata": {},
   "source": [
    "##### Recompensas y devoluciones\n",
    "\n",
    "Una recompensa es un feedback numérico que genera el entorno cuando el agente realiza una acción *a* en un estado *s*:\n",
    "\n",
    "\\begin{equation}\n",
    "    r = r(s, a)\n",
    "\\end{equation}\n",
    "\n",
    "Generemos una recompensa del entorno:"
   ]
  },
  {
   "cell_type": "code",
   "execution_count": null,
   "id": "062e03e1",
   "metadata": {},
   "outputs": [],
   "source": []
  },
  {
   "cell_type": "markdown",
   "id": "79bd6ae2",
   "metadata": {},
   "source": [
    "La rentabilidad asociada a un momento en el tiempo *t* es la suma (descontada) de recompensas que obtiene el agente a partir de ese momento. Vamos a calcular $G_0$, es decir, la vuelta al principio del episodio:\n",
    "\n",
    "\\begin{equation}\n",
    "    G_0 = R_1 + \\gamma R_2 + \\gamma^2 R_3 + ... + \\gamma^{T-1} R_T\n",
    "\\end{equation}\n",
    "\n",
    "\n",
    "\n",
    "Supongamos que el factor de descuento $\\gamma = 0.99$:\n"
   ]
  },
  {
   "cell_type": "code",
   "execution_count": null,
   "id": "149ea534",
   "metadata": {},
   "outputs": [],
   "source": []
  },
  {
   "cell_type": "markdown",
   "id": "5a5b4f5b",
   "metadata": {},
   "source": [
    "##### Política\n",
    "\n",
    "Una política es una función $\\pi(a|s) \\in [0, 1]$ que da la probabilidad de una acción dado el estado actual. La función toma el estado y la acción como entradas y devuelve un valor flotante en [0,1].\n",
    "\n",
    "Dado que en la práctica necesitaremos calcular las probabilidades de todas las acciones, representaremos la política como una función que toma el estado como argumento y devuelve las probabilidades asociadas con cada una de las acciones. Por lo tanto, si las probabilidades son:\n",
    "\n",
    "[0,5, 0,3, 0,1]\n",
    "\n",
    "entenderemos que la acción con índice 0 tiene un 50% de probabilidad de ser elegida, la de índice 1 tiene un 30% y la de índice 2 tiene un 10%.\n",
    "\n",
    "Codifiquemos una función de política que elija acciones al azar:"
   ]
  },
  {
   "cell_type": "code",
   "execution_count": null,
   "id": "af99764f",
   "metadata": {},
   "outputs": [],
   "source": []
  },
  {
   "cell_type": "markdown",
   "id": "4943c14b",
   "metadata": {},
   "source": [
    "## Ejejcutando un episodio con una política aleatoria"
   ]
  },
  {
   "cell_type": "markdown",
   "id": "1409fcc0",
   "metadata": {},
   "source": [
    "###### Crear y resetear el entorno"
   ]
  },
  {
   "cell_type": "code",
   "execution_count": null,
   "id": "2579c382",
   "metadata": {},
   "outputs": [],
   "source": []
  },
  {
   "cell_type": "markdown",
   "id": "69b08634",
   "metadata": {},
   "source": [
    "###### Compute $p(a|s) \\; \\forall a \\in \\{0, 1, 2, 3\\}$"
   ]
  },
  {
   "cell_type": "code",
   "execution_count": null,
   "id": "9daeaf2a",
   "metadata": {},
   "outputs": [],
   "source": []
  },
  {
   "cell_type": "code",
   "execution_count": null,
   "id": "30965dd9",
   "metadata": {},
   "outputs": [],
   "source": []
  },
  {
   "cell_type": "markdown",
   "id": "b81a7a52",
   "metadata": {},
   "source": [
    "###### Usar la política para ejecutar un episodio"
   ]
  },
  {
   "cell_type": "code",
   "execution_count": null,
   "id": "c0c5f7a7",
   "metadata": {},
   "outputs": [],
   "source": []
  },
  {
   "cell_type": "code",
   "execution_count": null,
   "id": "d9340bc8",
   "metadata": {},
   "outputs": [],
   "source": []
  },
  {
   "cell_type": "code",
   "execution_count": null,
   "id": "1b8ff32c",
   "metadata": {},
   "outputs": [],
   "source": []
  }
 ],
 "metadata": {
  "kernelspec": {
   "display_name": "Python 3 (ipykernel)",
   "language": "python",
   "name": "python3"
  },
  "language_info": {
   "codemirror_mode": {
    "name": "ipython",
    "version": 3
   },
   "file_extension": ".py",
   "mimetype": "text/x-python",
   "name": "python",
   "nbconvert_exporter": "python",
   "pygments_lexer": "ipython3",
   "version": "3.8.8"
  }
 },
 "nbformat": 4,
 "nbformat_minor": 5
}
