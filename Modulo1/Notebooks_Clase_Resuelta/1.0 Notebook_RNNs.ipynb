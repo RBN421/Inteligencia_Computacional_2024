{
 "cells": [
  {
   "cell_type": "markdown",
   "metadata": {},
   "source": [
    "<img style=\"float: left;;\" src='Figures/alinco.png' /></a>\n",
    "\n",
    "# <center> <font color= #000047> Vanilla RNNs, GRUs and the `scan` function.</font>\n",
    "    "
   ]
  },
  {
   "cell_type": "markdown",
   "metadata": {},
   "source": [
    "In this notebook, you will learn how to define the forward method for vanilla RNNs and GRUs. Additionally, you will see how to define and use the function `scan` to compute forward propagation for RNNs.\n"
   ]
  },
  {
   "cell_type": "code",
   "execution_count": 1,
   "metadata": {},
   "outputs": [],
   "source": [
    "import numpy as np\n",
    "from numpy import random"
   ]
  },
  {
   "cell_type": "markdown",
   "metadata": {},
   "source": [
    "An implementation of the `sigmoid` function is provided below so you can use it in this notebook."
   ]
  },
  {
   "cell_type": "code",
   "execution_count": 2,
   "metadata": {},
   "outputs": [],
   "source": [
    "def sigmoid(x): # Sigmoid function\n",
    "    return 1.0 / (1.0 + np.exp(-x))"
   ]
  },
  {
   "cell_type": "markdown",
   "metadata": {},
   "source": [
    "# Part 1: Forward method for vanilla RNNs and GRUs"
   ]
  },
  {
   "cell_type": "markdown",
   "metadata": {},
   "source": [
    "In this part of the notebook, you'll see the implementation of the forward method for a vanilla RNN and you'll implement that same method for a GRU. For this excersice you'll use a set of random weights and variables with the following dimensions:\n",
    "\n",
    "- Embedding size (`emb`) : 128\n",
    "- Hidden state size (`h_dim`) : (16,1)\n",
    "\n",
    "The weights `w_` and biases `b_` are initialized with dimensions (`h_dim`, `emb + h_dim`) and (`h_dim`, 1). We expect the hidden state `h_t` to be a column vector with size (`h_dim`,1) and the initial hidden state `h_0` is a vector of zeros."
   ]
  },
  {
   "cell_type": "code",
   "execution_count": 4,
   "metadata": {},
   "outputs": [],
   "source": [
    "random.seed(10)\n",
    "emb = 128 #el tamaño de los embedings\n",
    "h_dim = 16 #Dimensión de los estados ocultos\n",
    "T = 256 # Numero de variables en la secuencia\n",
    "\n",
    "h_0 = np.zeros((h_dim,1))\n",
    "\n",
    "#Inicializar los pesos y los bias \n",
    "\n",
    "W1 = random.standard_normal((h_dim, emb + h_dim))\n",
    "W2 = random.standard_normal((h_dim, emb + h_dim))\n",
    "W3 = random.standard_normal((h_dim, emb + h_dim))\n",
    "\n",
    "b1 = random.standard_normal((h_dim,1))\n",
    "b2 = random.standard_normal((h_dim,1))\n",
    "b3 = random.standard_normal((h_dim,1))\n",
    "\n",
    "# La entrada la vamos a generar de manera aleatoria\n",
    "X = random.standard_normal((T, emb, 1))\n",
    "weights = [W1,W2,W3,b1,b2,b3]"
   ]
  },
  {
   "cell_type": "markdown",
   "metadata": {},
   "source": [
    "## 1.1 Forward method for vanilla RNNs"
   ]
  },
  {
   "cell_type": "markdown",
   "metadata": {},
   "source": [
    "The vanilla RNN cell is quite straight forward. Its most general structure is presented in the next figure: \n",
    "\n",
    "<img src=\"Figures/RNN.PNG\" width=\"400\"/>\n",
    "\n",
    "As you saw in the lecture videos, the computations made in a vanilla RNN cell are equivalent to the following equations:\n",
    "\n",
    "\\begin{equation}\n",
    "h^{<t>}=g(W_{h}[h^{<t-1>},x^{<t>}] + b_h)\n",
    "\\label{eq: htRNN}\n",
    "\\end{equation}\n",
    "    \n",
    "\\begin{equation}\n",
    "\\hat{y}^{<t>}=g(W_{yh}h^{<t>} + b_y)\n",
    "\\label{eq: ytRNN}\n",
    "\\end{equation}\n",
    "\n",
    "where $[h^{<t-1>},x^{<t>}]$ means that $h^{<t-1>}$ and $x^{<t>}$ are concatenated together. In the next cell we provide the implementation of the forward method for a vanilla RNN. "
   ]
  },
  {
   "cell_type": "code",
   "execution_count": 17,
   "metadata": {},
   "outputs": [],
   "source": [
    "#Funcion para la propagación de una celda de tipo RNN\n",
    "def forward_V_RNN(inputs, weights):\n",
    "    x, h_t = inputs\n",
    "    #weights\n",
    "    wh,_,_,bh,_,_ = weights\n",
    "    \n",
    "    #El siguiente estado oculto \n",
    "    h_t = np.dot(wh, np.concatenate(h_t, x) + bh)\n",
    "    h_t = sigmoid(h_t)\n",
    "    \n",
    "    return h_t"
   ]
  },
  {
   "cell_type": "markdown",
   "metadata": {},
   "source": [
    "As you can see, we omitted the computation of $\\hat{y}^{<t>}$. This was done for the sake of simplicity, so you can focus on the way that hidden states are updated here and in the GRU cell."
   ]
  },
  {
   "cell_type": "markdown",
   "metadata": {},
   "source": [
    "## 1.2 Forward method for GRUs"
   ]
  },
  {
   "cell_type": "markdown",
   "metadata": {},
   "source": [
    "A GRU cell have more computations than the ones that vanilla RNNs have. You can see this visually in the following diagram:\n",
    "\n",
    "<img src=\"Figures/GRU.PNG\" width=\"400\"/>\n",
    "\n",
    "As you saw in the lecture videos, GRUs have relevance $\\Gamma_r$ and update $\\Gamma_u$ gates that control how the hidden state $h^{<t>}$ is updated on every time step. With these gates, GRUs are capable of keeping relevant information in the hidden state even for long sequences. The equations needed for the forward method in GRUs are provided below: \n",
    "\n",
    "\\begin{equation}\n",
    "\\Gamma_r=\\sigma{(W_r[h^{<t-1>}, x^{<t>}]+b_r)}\n",
    "\\end{equation}\n",
    "\n",
    "\\begin{equation}\n",
    "\\Gamma_u=\\sigma{(W_u[h^{<t-1>}, x^{<t>}]+b_u)}\n",
    "\\end{equation}\n",
    "\n",
    "\\begin{equation}\n",
    "c^{<t>}=\\tanh{(W_h[\\Gamma_r*h^{<t-1>},x^{<t>}]+b_h)}\n",
    "\\end{equation}\n",
    "\n",
    "\\begin{equation}\n",
    "h^{<t>}=\\Gamma_u*c^{<t>}+(1-\\Gamma_u)*h^{<t-1>}\n",
    "\\end{equation}\n",
    "\n",
    "In the next cell, please implement the forward method for a GRU cell by computing the update `u` and relevance `r` gates, and the candidate hidden state `c`. "
   ]
  },
  {
   "cell_type": "code",
   "execution_count": 18,
   "metadata": {},
   "outputs": [],
   "source": [
    "def forward_GRU(inputs, weights):\n",
    "    x, h_t = inputs\n",
    "    #pesos de la celda GRU\n",
    "    wu, wr, wc, wy, bu, br, bc, by = weights\n",
    "    \n",
    "    #Actualizar la celda\n",
    "    Sigma_u = np.dot(wu, np.concatenate([h_t, x])) + bu\n",
    "    Sigma_u = sigmoid(Sigma_u)\n",
    "    \n",
    "    #Compuerta relevante\n",
    "    Sigma_r = np.dot(wr, np.concatenate([h_t, x])) + br\n",
    "    Sigma_r = sigmoid(Sigma_r)\n",
    "    \n",
    "    #Estado oculto candidato\n",
    "    c = np.dot(wc,np.concatenate([Sigma_r*h_t, x])) + bc\n",
    "    c = np.tanh(c)\n",
    "    \n",
    "    #Nuevo estado oculto\n",
    "    h_t = Sigma_u*c + (1-Sigma_u)*h_t\n",
    "    \n",
    "    y_t = np.dot(wy, np.concatenate(h_t, x) + by)\n",
    "    y_t = sigmoid()\n",
    "    \n",
    "    return h_t, y_t"
   ]
  },
  {
   "cell_type": "markdown",
   "metadata": {},
   "source": [
    "Run the following cell to check your implementation."
   ]
  },
  {
   "cell_type": "code",
   "execution_count": 19,
   "metadata": {},
   "outputs": [
    {
     "ename": "ValueError",
     "evalue": "not enough values to unpack (expected 8, got 6)",
     "output_type": "error",
     "traceback": [
      "\u001b[1;31m---------------------------------------------------------------------------\u001b[0m",
      "\u001b[1;31mValueError\u001b[0m                                Traceback (most recent call last)",
      "\u001b[1;32m~\\AppData\\Local\\Temp/ipykernel_26764/575607931.py\u001b[0m in \u001b[0;36m<module>\u001b[1;34m\u001b[0m\n\u001b[1;32m----> 1\u001b[1;33m \u001b[0mforward_GRU\u001b[0m\u001b[1;33m(\u001b[0m\u001b[1;33m[\u001b[0m\u001b[0mX\u001b[0m\u001b[1;33m[\u001b[0m\u001b[1;36m1\u001b[0m\u001b[1;33m]\u001b[0m\u001b[1;33m,\u001b[0m\u001b[0mh_0\u001b[0m\u001b[1;33m]\u001b[0m\u001b[1;33m,\u001b[0m  \u001b[0mweights\u001b[0m\u001b[1;33m)\u001b[0m\u001b[1;33m\u001b[0m\u001b[1;33m\u001b[0m\u001b[0m\n\u001b[0m",
      "\u001b[1;32m~\\AppData\\Local\\Temp/ipykernel_26764/3470753035.py\u001b[0m in \u001b[0;36mforward_GRU\u001b[1;34m(inputs, weights)\u001b[0m\n\u001b[0;32m      2\u001b[0m     \u001b[0mx\u001b[0m\u001b[1;33m,\u001b[0m \u001b[0mh_t\u001b[0m \u001b[1;33m=\u001b[0m \u001b[0minputs\u001b[0m\u001b[1;33m\u001b[0m\u001b[1;33m\u001b[0m\u001b[0m\n\u001b[0;32m      3\u001b[0m     \u001b[1;31m#pesos de la celda GRU\u001b[0m\u001b[1;33m\u001b[0m\u001b[1;33m\u001b[0m\u001b[1;33m\u001b[0m\u001b[0m\n\u001b[1;32m----> 4\u001b[1;33m     \u001b[0mwu\u001b[0m\u001b[1;33m,\u001b[0m \u001b[0mwr\u001b[0m\u001b[1;33m,\u001b[0m \u001b[0mwc\u001b[0m\u001b[1;33m,\u001b[0m \u001b[0mwy\u001b[0m\u001b[1;33m,\u001b[0m \u001b[0mbu\u001b[0m\u001b[1;33m,\u001b[0m \u001b[0mbr\u001b[0m\u001b[1;33m,\u001b[0m \u001b[0mbc\u001b[0m\u001b[1;33m,\u001b[0m \u001b[0mby\u001b[0m \u001b[1;33m=\u001b[0m \u001b[0mweights\u001b[0m\u001b[1;33m\u001b[0m\u001b[1;33m\u001b[0m\u001b[0m\n\u001b[0m\u001b[0;32m      5\u001b[0m \u001b[1;33m\u001b[0m\u001b[0m\n\u001b[0;32m      6\u001b[0m     \u001b[1;31m#Actualizar la celda\u001b[0m\u001b[1;33m\u001b[0m\u001b[1;33m\u001b[0m\u001b[1;33m\u001b[0m\u001b[0m\n",
      "\u001b[1;31mValueError\u001b[0m: not enough values to unpack (expected 8, got 6)"
     ]
    }
   ],
   "source": [
    "forward_GRU([X[1],h_0],  weights)"
   ]
  },
  {
   "cell_type": "markdown",
   "metadata": {},
   "source": [
    "# Part 2: Implementation of the `scan` function"
   ]
  },
  {
   "cell_type": "markdown",
   "metadata": {},
   "source": [
    "In the lectures you saw how the `scan` function is used for forward propagation in RNNs. It takes as inputs:\n",
    "\n",
    "- `fn` : the function to be called recurrently (i.e. `forward_GRU`)\n",
    "- `elems` : the list of inputs for each time step (`X`)\n",
    "- `weights` : the parameters needed to compute `fn`\n",
    "- `h_0` : the initial hidden state\n",
    "\n",
    "`scan` goes through all the elements `x` in `elems`, calls the function `fn` with arguments ([`x`, `h_t`],`weights`), stores the computed hidden state `h_t` and appends the result to a list `ys`. Complete the following cell by calling `fn` with arguments ([`x`, `h_t`],`weights`)."
   ]
  },
  {
   "cell_type": "code",
   "execution_count": 20,
   "metadata": {},
   "outputs": [],
   "source": [
    "def scan(fn, elems, weights, h_0=None):\n",
    "    h_t = h_0\n",
    "    ys = []\n",
    "    \n",
    "    for x in elems: \n",
    "        y, ht = fn([x,h_t], weights)\n",
    "        ys.append(y)\n",
    "    return ys,h_t"
   ]
  },
  {
   "cell_type": "code",
   "execution_count": 21,
   "metadata": {},
   "outputs": [],
   "source": [
    "random.seed(10)\n",
    "emb = 128 #el tamaño de los embedings\n",
    "h_dim = 16 #Dimensión de los estados ocultos\n",
    "T = 256 # Numero de variables en la secuencia\n",
    "\n",
    "h_0 = np.zeros((h_dim,1))\n",
    "\n",
    "#Inicializar los pesos y los bias \n",
    "\n",
    "W1 = random.standard_normal((h_dim, emb + h_dim))\n",
    "W2 = random.standard_normal((h_dim, emb + h_dim))\n",
    "W3 = random.standard_normal((h_dim, emb + h_dim))\n",
    "W4 = random.standard_normal((h_dim, emb + h_dim))\n",
    "\n",
    "b1 = random.standard_normal((h_dim,1))\n",
    "b2 = random.standard_normal((h_dim,1))\n",
    "b3 = random.standard_normal((h_dim,1))\n",
    "b4 = random.standard_normal((h_dim,1))\n",
    "\n",
    "# La entrada la vamos a generar de manera aleatoria\n",
    "X = random.standard_normal((T, emb, 1))\n",
    "weights = [W1,W2,W3,W4,b1,b2,b3,b4]"
   ]
  },
  {
   "cell_type": "code",
   "execution_count": 26,
   "metadata": {},
   "outputs": [],
   "source": [
    "def forward_GRU(inputs, weights):\n",
    "    x, h_t = inputs\n",
    "    #pesos de la celda GRU\n",
    "    wu, wr, wc, wy, bu, br, bc, by = weights\n",
    "    \n",
    "    #Actualizar la celda\n",
    "    Sigma_u = np.dot(wu, np.concatenate([h_t, x])) + bu\n",
    "    Sigma_u = sigmoid(Sigma_u)\n",
    "    \n",
    "    #Compuerta relevante\n",
    "    Sigma_r = np.dot(wr, np.concatenate([h_t, x])) + br\n",
    "    Sigma_r = sigmoid(Sigma_r)\n",
    "    \n",
    "    #Estado oculto candidato\n",
    "    c = np.dot(wc,np.concatenate([Sigma_r*h_t, x])) + bc\n",
    "    c = np.tanh(c)\n",
    "    \n",
    "    #Nuevo estado oculto\n",
    "    h_t = Sigma_u*c + (1-Sigma_u)*h_t\n",
    "    \n",
    "    y_t = np.dot(wy, np.concatenate([h_t, x])) + by\n",
    "    y_t = sigmoid(y_t)\n",
    "    \n",
    "    return h_t, y_t"
   ]
  },
  {
   "cell_type": "code",
   "execution_count": 27,
   "metadata": {},
   "outputs": [
    {
     "data": {
      "text/plain": [
       "(array([[-5.46717881e-05],\n",
       "        [-2.01051221e-03],\n",
       "        [ 7.38404514e-01],\n",
       "        [ 4.06626731e-02],\n",
       "        [-3.68213834e-14],\n",
       "        [ 8.35937080e-02],\n",
       "        [ 9.56615365e-01],\n",
       "        [ 2.79540419e-04],\n",
       "        [ 6.82018364e-16],\n",
       "        [-9.98789512e-01],\n",
       "        [-9.99263559e-01],\n",
       "        [-9.51715245e-01],\n",
       "        [ 4.15343481e-04],\n",
       "        [ 1.52341517e-01],\n",
       "        [ 9.92411835e-01],\n",
       "        [-1.25969214e-01]]),\n",
       " array([[9.99999723e-01],\n",
       "        [4.59058123e-03],\n",
       "        [1.12000678e-08],\n",
       "        [5.53938178e-03],\n",
       "        [9.99999995e-01],\n",
       "        [3.57987302e-02],\n",
       "        [9.99999696e-01],\n",
       "        [8.32964217e-01],\n",
       "        [4.82861689e-01],\n",
       "        [9.99999495e-01],\n",
       "        [1.24257596e-04],\n",
       "        [4.38120418e-02],\n",
       "        [9.78201400e-01],\n",
       "        [2.60661708e-10],\n",
       "        [9.99828333e-01],\n",
       "        [9.98022744e-01]]))"
      ]
     },
     "execution_count": 27,
     "metadata": {},
     "output_type": "execute_result"
    }
   ],
   "source": [
    "forward_GRU([X[1],h_0],  weights)"
   ]
  },
  {
   "cell_type": "markdown",
   "metadata": {},
   "source": [
    "# Part 3: Comparison between vanilla RNNs and GRUs"
   ]
  },
  {
   "cell_type": "markdown",
   "metadata": {},
   "source": [
    "You have already seen how forward propagation is computed for vanilla RNNs and GRUs. As a quick recap, you need to have a forward method for the recurrent cell and a function like `scan` to go through all the elements from a sequence using a forward method. You saw that GRUs performed more computations than vanilla RNNs, and you can check that they have 3 times more parameters. In the next two cells, we compute forward propagation for a sequence with 256 time steps (`T`) for an RNN and a GRU with the same hidden state `h_t` size (`h_dim`=16).  "
   ]
  },
  {
   "cell_type": "code",
   "execution_count": 29,
   "metadata": {},
   "outputs": [
    {
     "name": "stdout",
     "output_type": "stream",
     "text": [
      "se tomó 9.91020000037679 ms en ejecutar el metodo forward_GRU\n"
     ]
    }
   ],
   "source": [
    "# vanilla RNNs\n",
    "from time import perf_counter\n",
    "tic = perf_counter()\n",
    "ys, h_T = scan(forward_GRU, X, weights, h_0)\n",
    "toc = perf_counter()\n",
    "Run_time = (toc-tic)*1000\n",
    "print(f'se tomó {Run_time} ms en ejecutar el metodo forward_GRU')\n"
   ]
  },
  {
   "cell_type": "code",
   "execution_count": 31,
   "metadata": {},
   "outputs": [
    {
     "data": {
      "text/plain": [
       "(256, 128, 1)"
      ]
     },
     "execution_count": 31,
     "metadata": {},
     "output_type": "execute_result"
    }
   ],
   "source": [
    "X.shape"
   ]
  },
  {
   "cell_type": "code",
   "execution_count": null,
   "metadata": {},
   "outputs": [],
   "source": [
    "# GRUs\n"
   ]
  },
  {
   "cell_type": "markdown",
   "metadata": {},
   "source": [
    "As you were told in the lectures, GRUs take more time to compute (However, sometimes, although a rare occurrence, Vanilla RNNs take more time. Can you figure out what might cause this ?). This means that training and prediction would take more time for a GRU than for a vanilla RNN. However, GRUs allow you to propagate relevant information even for long sequences, so when selecting an architecture for NLP you should assess the tradeoff between computational time and performance. "
   ]
  }
 ],
 "metadata": {
  "kernelspec": {
   "display_name": "Python 3 (ipykernel)",
   "language": "python",
   "name": "python3"
  },
  "language_info": {
   "codemirror_mode": {
    "name": "ipython",
    "version": 3
   },
   "file_extension": ".py",
   "mimetype": "text/x-python",
   "name": "python",
   "nbconvert_exporter": "python",
   "pygments_lexer": "ipython3",
   "version": "3.8.8"
  }
 },
 "nbformat": 4,
 "nbformat_minor": 4
}
