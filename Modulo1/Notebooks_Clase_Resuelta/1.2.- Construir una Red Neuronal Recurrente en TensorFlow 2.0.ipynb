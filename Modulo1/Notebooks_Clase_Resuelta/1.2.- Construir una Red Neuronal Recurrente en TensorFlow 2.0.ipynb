{
 "cells": [
  {
   "cell_type": "markdown",
   "metadata": {},
   "source": [
    "<img style=\"float: left;;\" src='Figures/alinco.png' /></a>\n",
    "\n",
    "# <center> <font color= #000047> Módulo 1: Crear una Red Neuronal Recurrente en TensorFlow 2.0\n",
    "\n"
   ]
  },
  {
   "cell_type": "markdown",
   "metadata": {
    "colab_type": "text",
    "id": "JL3SBH6PzDwV"
   },
   "source": [
    "## Paso 1: Importar las librerías necesarias"
   ]
  },
  {
   "cell_type": "code",
   "execution_count": 1,
   "metadata": {
    "colab": {},
    "colab_type": "code",
    "id": "ynShOu8nNtFt"
   },
   "outputs": [
    {
     "name": "stderr",
     "output_type": "stream",
     "text": [
      "C:\\Users\\uie70742\\.conda\\envs\\rapy_env\\lib\\site-packages\\scipy\\__init__.py:173: UserWarning: A NumPy version >=1.19.5 and <1.27.0 is required for this version of SciPy (detected version 1.18.5)\n",
      "  warnings.warn(f\"A NumPy version >={np_minversion} and <{np_maxversion}\"\n"
     ]
    }
   ],
   "source": [
    "import tensorflow as tf\n",
    "from tensorflow.keras.datasets import imdb"
   ]
  },
  {
   "cell_type": "markdown",
   "metadata": {
    "colab_type": "text",
    "id": "JEjlM2EazOf0"
   },
   "source": [
    "## Paso 2: Pre procesado de datos\n"
   ]
  },
  {
   "cell_type": "markdown",
   "metadata": {
    "colab_type": "text",
    "id": "wB0tNtXJzTfA"
   },
   "source": [
    "### Configurar parámetros del dataset"
   ]
  },
  {
   "cell_type": "code",
   "execution_count": 2,
   "metadata": {
    "colab": {},
    "colab_type": "code",
    "id": "Jw6_KU24SrYK"
   },
   "outputs": [],
   "source": [
    "numero_palabras = 20000\n",
    "max_tamano = 100\n"
   ]
  },
  {
   "cell_type": "markdown",
   "metadata": {
    "colab_type": "text",
    "id": "ePywR8A4zaxT"
   },
   "source": [
    "### Carga del dataset de IMDB"
   ]
  },
  {
   "cell_type": "code",
   "execution_count": 6,
   "metadata": {
    "colab": {},
    "colab_type": "code",
    "id": "6kCTV_hjOKmE"
   },
   "outputs": [],
   "source": [
    "data_imdb = imdb.load_data(num_words = numero_palabras)\n"
   ]
  },
  {
   "cell_type": "code",
   "execution_count": 9,
   "metadata": {},
   "outputs": [],
   "source": [
    "X_train, y_train = data_imdb[0]\n",
    "X_test, y_test = data_imdb[1]"
   ]
  },
  {
   "cell_type": "code",
   "execution_count": 10,
   "metadata": {},
   "outputs": [
    {
     "data": {
      "text/plain": [
       "array([1, 0, 0, ..., 0, 1, 0], dtype=int64)"
      ]
     },
     "execution_count": 10,
     "metadata": {},
     "output_type": "execute_result"
    }
   ],
   "source": [
    "y_train"
   ]
  },
  {
   "cell_type": "markdown",
   "metadata": {
    "colab_type": "text",
    "id": "MZKDNoTKzi5w"
   },
   "source": [
    "### Cortar secuencias de texto de la misma longitud"
   ]
  },
  {
   "cell_type": "code",
   "execution_count": 11,
   "metadata": {
    "colab": {},
    "colab_type": "code",
    "id": "LHcMNzv7Pd1s"
   },
   "outputs": [],
   "source": [
    "X_train = tf.keras.preprocessing.sequence.pad_sequences(X_train, maxlen = max_tamano)"
   ]
  },
  {
   "cell_type": "code",
   "execution_count": 12,
   "metadata": {},
   "outputs": [],
   "source": [
    "X_test = tf.keras.preprocessing.sequence.pad_sequences(X_test, maxlen = max_tamano)"
   ]
  },
  {
   "cell_type": "markdown",
   "metadata": {
    "colab_type": "text",
    "id": "7xDMP44Zz0dU"
   },
   "source": [
    "### Configurar parámetros de la capa de Embedding"
   ]
  },
  {
   "cell_type": "code",
   "execution_count": 13,
   "metadata": {
    "colab": {
     "base_uri": "https://localhost:8080/",
     "height": 34
    },
    "colab_type": "code",
    "executionInfo": {
     "elapsed": 583,
     "status": "ok",
     "timestamp": 1557527197664,
     "user": {
      "displayName": "TechGuy Luka",
      "photoUrl": "https://lh3.googleusercontent.com/-v_8ixmE_SJc/AAAAAAAAAAI/AAAAAAAAAEY/QGGmNZURhdc/s64/photo.jpg",
      "userId": "12375685325186592450"
     },
     "user_tz": -120
    },
    "id": "nGHQ2upgQIGj",
    "outputId": "cd40fe5e-bd42-442a-801a-55e79865ab8c"
   },
   "outputs": [],
   "source": [
    "vocab_size = numero_palabras\n",
    "embed_size = 128\n"
   ]
  },
  {
   "cell_type": "markdown",
   "metadata": {
    "colab_type": "text",
    "id": "VG6LBKGnz7jT"
   },
   "source": [
    "## Paso 3: Construir la Red Neuronal Recurrente"
   ]
  },
  {
   "cell_type": "markdown",
   "metadata": {
    "colab_type": "text",
    "id": "TUVnz-9K0DcW"
   },
   "source": [
    "### Definir el modelo"
   ]
  },
  {
   "cell_type": "code",
   "execution_count": 14,
   "metadata": {
    "colab": {},
    "colab_type": "code",
    "id": "N2GHzwk6OMrV"
   },
   "outputs": [],
   "source": [
    "model = tf.keras.Sequential()"
   ]
  },
  {
   "cell_type": "markdown",
   "metadata": {
    "colab_type": "text",
    "id": "lnXJZYR-0HXE"
   },
   "source": [
    "### Añadir la capa de embedding"
   ]
  },
  {
   "cell_type": "code",
   "execution_count": 16,
   "metadata": {},
   "outputs": [
    {
     "data": {
      "text/plain": [
       "(25000, 100)"
      ]
     },
     "execution_count": 16,
     "metadata": {},
     "output_type": "execute_result"
    }
   ],
   "source": [
    "X_train.shape"
   ]
  },
  {
   "cell_type": "code",
   "execution_count": 17,
   "metadata": {
    "colab": {},
    "colab_type": "code",
    "id": "UWqC0DXbO9FU"
   },
   "outputs": [],
   "source": [
    "model.add(tf.keras.layers.Embedding(vocab_size, embed_size, input_shape = (X_train.shape[1],)))"
   ]
  },
  {
   "cell_type": "markdown",
   "metadata": {
    "colab_type": "text",
    "id": "CM-lpTZX1mEG"
   },
   "source": [
    "### Añadir la capa de LSTM\n",
    "\n",
    "- unidades: 128\n",
    "- función de activación: tanh"
   ]
  },
  {
   "cell_type": "code",
   "execution_count": null,
   "metadata": {},
   "outputs": [],
   "source": [
    "#!pip install -U numpy==1.18.5 --user"
   ]
  },
  {
   "cell_type": "code",
   "execution_count": 18,
   "metadata": {
    "colab": {
     "base_uri": "https://localhost:8080/",
     "height": 72
    },
    "colab_type": "code",
    "executionInfo": {
     "elapsed": 545,
     "status": "ok",
     "timestamp": 1557527201016,
     "user": {
      "displayName": "TechGuy Luka",
      "photoUrl": "https://lh3.googleusercontent.com/-v_8ixmE_SJc/AAAAAAAAAAI/AAAAAAAAAEY/QGGmNZURhdc/s64/photo.jpg",
      "userId": "12375685325186592450"
     },
     "user_tz": -120
    },
    "id": "5W7IXqhjQpAl",
    "outputId": "ca4438c1-f0a3-4742-9cb6-803920134d18"
   },
   "outputs": [],
   "source": [
    "model.add(tf.keras.layers.LSTM(units=128, activation='tanh'))"
   ]
  },
  {
   "cell_type": "markdown",
   "metadata": {
    "colab_type": "text",
    "id": "9T9M5Ult10XM"
   },
   "source": [
    "### Añadir la capa totalmente conectada de salida\n",
    "\n",
    "- unidades: 1\n",
    "- función de activación: sigmoid"
   ]
  },
  {
   "cell_type": "code",
   "execution_count": 19,
   "metadata": {
    "colab": {},
    "colab_type": "code",
    "id": "xe1nHzq7Q91-"
   },
   "outputs": [
    {
     "name": "stdout",
     "output_type": "stream",
     "text": [
      "Model: \"sequential\"\n",
      "_________________________________________________________________\n",
      "Layer (type)                 Output Shape              Param #   \n",
      "=================================================================\n",
      "embedding (Embedding)        (None, 100, 128)          2560000   \n",
      "_________________________________________________________________\n",
      "lstm (LSTM)                  (None, 128)               131584    \n",
      "_________________________________________________________________\n",
      "dense (Dense)                (None, 1)                 129       \n",
      "=================================================================\n",
      "Total params: 2,691,713\n",
      "Trainable params: 2,691,713\n",
      "Non-trainable params: 0\n",
      "_________________________________________________________________\n"
     ]
    }
   ],
   "source": [
    "model.add(tf.keras.layers.Dense(units=1, activation='sigmoid'))\n",
    "model.summary()"
   ]
  },
  {
   "cell_type": "markdown",
   "metadata": {
    "colab_type": "text",
    "id": "VWcqM4Yr2ALS"
   },
   "source": [
    "### Compilar el modelo"
   ]
  },
  {
   "cell_type": "code",
   "execution_count": 20,
   "metadata": {
    "colab": {},
    "colab_type": "code",
    "id": "-z9ACOXcRUUN"
   },
   "outputs": [],
   "source": [
    "model.compile(optimizer='rmsprop', loss='binary_crossentropy', metrics=['accuracy'])"
   ]
  },
  {
   "cell_type": "markdown",
   "metadata": {
    "colab_type": "text",
    "id": "2bPUvbfe2GJI"
   },
   "source": [
    "### Entrenar el modelo"
   ]
  },
  {
   "cell_type": "code",
   "execution_count": 21,
   "metadata": {
    "colab": {
     "base_uri": "https://localhost:8080/",
     "height": 139
    },
    "colab_type": "code",
    "executionInfo": {
     "elapsed": 9460,
     "status": "ok",
     "timestamp": 1557527214350,
     "user": {
      "displayName": "TechGuy Luka",
      "photoUrl": "https://lh3.googleusercontent.com/-v_8ixmE_SJc/AAAAAAAAAAI/AAAAAAAAAEY/QGGmNZURhdc/s64/photo.jpg",
      "userId": "12375685325186592450"
     },
     "user_tz": -120
    },
    "id": "9FqUTA1CRpQ8",
    "outputId": "0d496788-f042-4fb3-d7d9-18166d2cbc9d"
   },
   "outputs": [
    {
     "name": "stdout",
     "output_type": "stream",
     "text": [
      "Epoch 1/10\n",
      "196/196 [==============================] - 33s 166ms/step - loss: 0.4638 - accuracy: 0.7807\n",
      "Epoch 2/10\n",
      "196/196 [==============================] - 30s 154ms/step - loss: 0.2872 - accuracy: 0.8859\n",
      "Epoch 3/10\n",
      "196/196 [==============================] - 30s 154ms/step - loss: 0.2306 - accuracy: 0.9107\n",
      "Epoch 4/10\n",
      "196/196 [==============================] - 30s 153ms/step - loss: 0.1837 - accuracy: 0.9321\n",
      "Epoch 5/10\n",
      "196/196 [==============================] - 30s 154ms/step - loss: 0.1515 - accuracy: 0.9454\n",
      "Epoch 6/10\n",
      "196/196 [==============================] - 31s 156ms/step - loss: 0.1237 - accuracy: 0.9564\n",
      "Epoch 7/10\n",
      "196/196 [==============================] - 30s 155ms/step - loss: 0.1002 - accuracy: 0.9654\n",
      "Epoch 8/10\n",
      "196/196 [==============================] - 32s 163ms/step - loss: 0.0770 - accuracy: 0.9732\n",
      "Epoch 9/10\n",
      "196/196 [==============================] - 33s 168ms/step - loss: 0.0602 - accuracy: 0.9788\n",
      "Epoch 10/10\n",
      "196/196 [==============================] - 31s 159ms/step - loss: 0.0413 - accuracy: 0.9854\n"
     ]
    },
    {
     "data": {
      "text/plain": [
       "<tensorflow.python.keras.callbacks.History at 0x22e88299df0>"
      ]
     },
     "execution_count": 21,
     "metadata": {},
     "output_type": "execute_result"
    }
   ],
   "source": [
    "model.fit(X_train, y_train, epochs=10, batch_size=128)"
   ]
  },
  {
   "cell_type": "markdown",
   "metadata": {
    "colab_type": "text",
    "id": "-wMo2wYpbCgb"
   },
   "source": [
    "### Evaluar el modelo"
   ]
  },
  {
   "cell_type": "code",
   "execution_count": 23,
   "metadata": {
    "colab": {
     "base_uri": "https://localhost:8080/",
     "height": 34
    },
    "colab_type": "code",
    "executionInfo": {
     "elapsed": 3908,
     "status": "ok",
     "timestamp": 1557527267061,
     "user": {
      "displayName": "TechGuy Luka",
      "photoUrl": "https://lh3.googleusercontent.com/-v_8ixmE_SJc/AAAAAAAAAAI/AAAAAAAAAEY/QGGmNZURhdc/s64/photo.jpg",
      "userId": "12375685325186592450"
     },
     "user_tz": -120
    },
    "id": "a8kD_6q-RySO",
    "outputId": "4f792319-1095-42b8-c35a-fb8f2f5093e6"
   },
   "outputs": [
    {
     "name": "stdout",
     "output_type": "stream",
     "text": [
      "782/782 [==============================] - 18s 23ms/step - loss: 0.7287 - accuracy: 0.8168\n"
     ]
    },
    {
     "data": {
      "text/plain": [
       "0.8167600035667419"
      ]
     },
     "execution_count": 23,
     "metadata": {},
     "output_type": "execute_result"
    }
   ],
   "source": [
    "test_loss, test_accuracy = model.evaluate(X_test, y_test)\n",
    "test_accuracy"
   ]
  },
  {
   "cell_type": "code",
   "execution_count": 25,
   "metadata": {},
   "outputs": [
    {
     "data": {
      "text/plain": [
       "array([    0,     0,     0,     0,     0,     0,     0,     0,     0,\n",
       "           0,     0,     0,     0,     0,     0,     0,     0,     0,\n",
       "           0,     0,     0,     0,     0,     0,     0,     0,     0,\n",
       "           0,     0,     0,     0,     0,     1,   591,   202,    14,\n",
       "          31,     6,   717,    10,    10, 18142, 10698,     5,     4,\n",
       "         360,     7,     4,   177,  5760,   394,   354,     4,   123,\n",
       "           9,  1035,  1035,  1035,    10,    10,    13,    92,   124,\n",
       "          89,   488,  7944,   100,    28,  1668,    14,    31,    23,\n",
       "          27,  7479,    29,   220,   468,     8,   124,    14,   286,\n",
       "         170,     8,   157,    46,     5,    27,   239,    16,   179,\n",
       "       15387,    38,    32,    25,  7944,   451,   202,    14,     6,\n",
       "         717])"
      ]
     },
     "execution_count": 25,
     "metadata": {},
     "output_type": "execute_result"
    }
   ],
   "source": [
    "X_test[0]"
   ]
  },
  {
   "cell_type": "code",
   "execution_count": null,
   "metadata": {
    "colab": {
     "base_uri": "https://localhost:8080/",
     "height": 34
    },
    "colab_type": "code",
    "executionInfo": {
     "elapsed": 457,
     "status": "ok",
     "timestamp": 1557527277712,
     "user": {
      "displayName": "TechGuy Luka",
      "photoUrl": "https://lh3.googleusercontent.com/-v_8ixmE_SJc/AAAAAAAAAAI/AAAAAAAAAEY/QGGmNZURhdc/s64/photo.jpg",
      "userId": "12375685325186592450"
     },
     "user_tz": -120
    },
    "id": "C0XnUtS-cEeI",
    "outputId": "0d99df5f-717e-4751-c4dc-48e77d765056"
   },
   "outputs": [],
   "source": [
    "#mejorar el accuracy de la red 1"
   ]
  },
  {
   "cell_type": "markdown",
   "metadata": {
    "colab": {},
    "colab_type": "code",
    "id": "fN9QK49W3C29"
   },
   "source": [
    "### Otro Ejemplo: Predecir el precio de las acciones de Google"
   ]
  },
  {
   "cell_type": "code",
   "execution_count": 26,
   "metadata": {},
   "outputs": [],
   "source": [
    "import numpy as np\n",
    "import pandas as pd\n",
    "import matplotlib.pyplot as plt\n",
    "dataset_train = pd.read_csv('Data/Google_Stock_Price_Train.csv')\n"
   ]
  },
  {
   "cell_type": "code",
   "execution_count": 27,
   "metadata": {},
   "outputs": [
    {
     "name": "stdout",
     "output_type": "stream",
     "text": [
      "<class 'pandas.core.frame.DataFrame'>\n",
      "RangeIndex: 1258 entries, 0 to 1257\n",
      "Data columns (total 6 columns):\n",
      " #   Column  Non-Null Count  Dtype  \n",
      "---  ------  --------------  -----  \n",
      " 0   Date    1258 non-null   object \n",
      " 1   Open    1258 non-null   float64\n",
      " 2   High    1258 non-null   float64\n",
      " 3   Low     1258 non-null   float64\n",
      " 4   Close   1258 non-null   object \n",
      " 5   Volume  1258 non-null   object \n",
      "dtypes: float64(3), object(3)\n",
      "memory usage: 59.1+ KB\n"
     ]
    }
   ],
   "source": [
    "dataset_train.info()"
   ]
  },
  {
   "cell_type": "code",
   "execution_count": 28,
   "metadata": {},
   "outputs": [
    {
     "data": {
      "text/html": [
       "<div>\n",
       "<style scoped>\n",
       "    .dataframe tbody tr th:only-of-type {\n",
       "        vertical-align: middle;\n",
       "    }\n",
       "\n",
       "    .dataframe tbody tr th {\n",
       "        vertical-align: top;\n",
       "    }\n",
       "\n",
       "    .dataframe thead th {\n",
       "        text-align: right;\n",
       "    }\n",
       "</style>\n",
       "<table border=\"1\" class=\"dataframe\">\n",
       "  <thead>\n",
       "    <tr style=\"text-align: right;\">\n",
       "      <th></th>\n",
       "      <th>Date</th>\n",
       "      <th>Open</th>\n",
       "      <th>High</th>\n",
       "      <th>Low</th>\n",
       "      <th>Close</th>\n",
       "      <th>Volume</th>\n",
       "    </tr>\n",
       "  </thead>\n",
       "  <tbody>\n",
       "    <tr>\n",
       "      <th>0</th>\n",
       "      <td>1/3/2012</td>\n",
       "      <td>325.25</td>\n",
       "      <td>332.83</td>\n",
       "      <td>324.97</td>\n",
       "      <td>663.59</td>\n",
       "      <td>7,380,500</td>\n",
       "    </tr>\n",
       "    <tr>\n",
       "      <th>1</th>\n",
       "      <td>1/4/2012</td>\n",
       "      <td>331.27</td>\n",
       "      <td>333.87</td>\n",
       "      <td>329.08</td>\n",
       "      <td>666.45</td>\n",
       "      <td>5,749,400</td>\n",
       "    </tr>\n",
       "    <tr>\n",
       "      <th>2</th>\n",
       "      <td>1/5/2012</td>\n",
       "      <td>329.83</td>\n",
       "      <td>330.75</td>\n",
       "      <td>326.89</td>\n",
       "      <td>657.21</td>\n",
       "      <td>6,590,300</td>\n",
       "    </tr>\n",
       "    <tr>\n",
       "      <th>3</th>\n",
       "      <td>1/6/2012</td>\n",
       "      <td>328.34</td>\n",
       "      <td>328.77</td>\n",
       "      <td>323.68</td>\n",
       "      <td>648.24</td>\n",
       "      <td>5,405,900</td>\n",
       "    </tr>\n",
       "    <tr>\n",
       "      <th>4</th>\n",
       "      <td>1/9/2012</td>\n",
       "      <td>322.04</td>\n",
       "      <td>322.29</td>\n",
       "      <td>309.46</td>\n",
       "      <td>620.76</td>\n",
       "      <td>11,688,800</td>\n",
       "    </tr>\n",
       "  </tbody>\n",
       "</table>\n",
       "</div>"
      ],
      "text/plain": [
       "       Date    Open    High     Low   Close      Volume\n",
       "0  1/3/2012  325.25  332.83  324.97  663.59   7,380,500\n",
       "1  1/4/2012  331.27  333.87  329.08  666.45   5,749,400\n",
       "2  1/5/2012  329.83  330.75  326.89  657.21   6,590,300\n",
       "3  1/6/2012  328.34  328.77  323.68  648.24   5,405,900\n",
       "4  1/9/2012  322.04  322.29  309.46  620.76  11,688,800"
      ]
     },
     "execution_count": 28,
     "metadata": {},
     "output_type": "execute_result"
    }
   ],
   "source": [
    "dataset_train.head()"
   ]
  },
  {
   "cell_type": "code",
   "execution_count": 29,
   "metadata": {},
   "outputs": [
    {
     "data": {
      "text/plain": [
       "'1/10/2012'"
      ]
     },
     "execution_count": 29,
     "metadata": {},
     "output_type": "execute_result"
    }
   ],
   "source": [
    "dataset_train['Date'].min()"
   ]
  },
  {
   "cell_type": "code",
   "execution_count": 30,
   "metadata": {},
   "outputs": [
    {
     "data": {
      "text/plain": [
       "'9/9/2016'"
      ]
     },
     "execution_count": 30,
     "metadata": {},
     "output_type": "execute_result"
    }
   ],
   "source": [
    "dataset_train['Date'].max()"
   ]
  },
  {
   "cell_type": "code",
   "execution_count": 35,
   "metadata": {},
   "outputs": [
    {
     "data": {
      "text/plain": [
       "array([325.25, 331.27, 329.83, ..., 793.7 , 783.33, 782.75])"
      ]
     },
     "execution_count": 35,
     "metadata": {},
     "output_type": "execute_result"
    }
   ],
   "source": [
    "dataset_train['Open'].values"
   ]
  },
  {
   "cell_type": "code",
   "execution_count": 39,
   "metadata": {},
   "outputs": [
    {
     "data": {
      "text/plain": [
       "array([[325.25],\n",
       "       [331.27],\n",
       "       [329.83],\n",
       "       ...,\n",
       "       [793.7 ],\n",
       "       [783.33],\n",
       "       [782.75]])"
      ]
     },
     "execution_count": 39,
     "metadata": {},
     "output_type": "execute_result"
    }
   ],
   "source": [
    "training_dataset = dataset_train.iloc[:,1:2].values\n",
    "training_dataset"
   ]
  },
  {
   "cell_type": "code",
   "execution_count": null,
   "metadata": {},
   "outputs": [],
   "source": [
    "#Preprocedo de datos\n",
    "#from sklearn.preprocessing import MinMaxScaler\n",
    "#MinMaxScaler de training_dataset_scaler = sc.fit_transform(training_dataset)"
   ]
  },
  {
   "cell_type": "code",
   "execution_count": null,
   "metadata": {},
   "outputs": [],
   "source": []
  },
  {
   "cell_type": "code",
   "execution_count": 40,
   "metadata": {},
   "outputs": [
    {
     "data": {
      "text/plain": [
       "Text(0, 0.5, 'Price')"
      ]
     },
     "execution_count": 40,
     "metadata": {},
     "output_type": "execute_result"
    },
    {
     "data": {
      "image/png": "[encoded data removed]",
      "text/plain": [
       "<Figure size 432x504 with 1 Axes>"
      ]
     },
     "metadata": {
      "needs_background": "light"
     },
     "output_type": "display_data"
    }
   ],
   "source": [
    "plt.figure(figsize=(6,7))\n",
    "plt.plot(training_dataset, color='r')\n",
    "plt.xlabel('Date')\n",
    "plt.ylabel('Price')"
   ]
  },
  {
   "cell_type": "code",
   "execution_count": 41,
   "metadata": {},
   "outputs": [],
   "source": [
    "#Crear una estructura de datos que nos permita añadir a la entrada de la RNN\n",
    "X_train=[]\n",
    "y_train=[]\n",
    "seq_size = 60\n",
    "\n",
    "for i in range(seq_size, training_dataset.shape[0]):\n",
    "    X_train.append(training_dataset[i-seq_size:i,0])\n",
    "    y_train.append(training_dataset[i,0])\n",
    "\n",
    "X_train, y_train = np.array(X_train), np.array(y_train)\n",
    "\n",
    "(batch_size, timesteps) = X_train.shape\n",
    "#Convertir X_train en un tensro de 3D\n",
    "X_train = np.reshape(X_train, (batch_size, timesteps,1))"
   ]
  },
  {
   "cell_type": "code",
   "execution_count": 43,
   "metadata": {},
   "outputs": [
    {
     "data": {
      "text/plain": [
       "(1198, 60, 1)"
      ]
     },
     "execution_count": 43,
     "metadata": {},
     "output_type": "execute_result"
    }
   ],
   "source": [
    "X_train.shape"
   ]
  },
  {
   "cell_type": "code",
   "execution_count": 45,
   "metadata": {},
   "outputs": [
    {
     "name": "stdout",
     "output_type": "stream",
     "text": [
      "Model: \"sequential_2\"\n",
      "_________________________________________________________________\n",
      "Layer (type)                 Output Shape              Param #   \n",
      "=================================================================\n",
      "lstm_1 (LSTM)                (None, 60, 50)            10400     \n",
      "_________________________________________________________________\n",
      "dropout (Dropout)            (None, 60, 50)            0         \n",
      "_________________________________________________________________\n",
      "lstm_2 (LSTM)                (None, 60, 50)            20200     \n",
      "_________________________________________________________________\n",
      "dropout_1 (Dropout)          (None, 60, 50)            0         \n",
      "_________________________________________________________________\n",
      "lstm_3 (LSTM)                (None, 50)                20200     \n",
      "_________________________________________________________________\n",
      "dropout_2 (Dropout)          (None, 50)                0         \n",
      "_________________________________________________________________\n",
      "dense_1 (Dense)              (None, 1)                 51        \n",
      "=================================================================\n",
      "Total params: 50,851\n",
      "Trainable params: 50,851\n",
      "Non-trainable params: 0\n",
      "_________________________________________________________________\n"
     ]
    }
   ],
   "source": [
    "#Construyendo la red\n",
    "\n",
    "model_google = tf.keras.Sequential()\n",
    "model_google.add(tf.keras.layers.LSTM(units=50, return_sequences=True, input_shape=(timesteps,1)))\n",
    "model_google.add(tf.keras.layers.Dropout(0.2))\n",
    "model_google.add(tf.keras.layers.LSTM(units=50, return_sequences=True))\n",
    "model_google.add(tf.keras.layers.Dropout(0.2))\n",
    "model_google.add(tf.keras.layers.LSTM(units=50))\n",
    "model_google.add(tf.keras.layers.Dropout(0.2))\n",
    "model_google.add(tf.keras.layers.Dense(1))\n",
    "\n",
    "model_google.summary()"
   ]
  },
  {
   "cell_type": "code",
   "execution_count": 46,
   "metadata": {},
   "outputs": [],
   "source": [
    "model_google.compile(optimizer='adam', loss='mean_squared_error', metrics = ['accuracy'])\n"
   ]
  },
  {
   "cell_type": "code",
   "execution_count": 47,
   "metadata": {},
   "outputs": [
    {
     "name": "stdout",
     "output_type": "stream",
     "text": [
      "Epoch 1/100\n",
      "38/38 [==============================] - 3s 66ms/step - loss: 314427.5938 - accuracy: 0.0000e+00\n",
      "Epoch 2/100\n",
      "38/38 [==============================] - 2s 60ms/step - loss: 308032.9375 - accuracy: 0.0000e+00\n",
      "Epoch 3/100\n",
      "38/38 [==============================] - 2s 60ms/step - loss: 305196.1250 - accuracy: 0.0000e+00\n",
      "Epoch 4/100\n",
      "38/38 [==============================] - 2s 64ms/step - loss: 302692.1875 - accuracy: 0.0000e+00\n",
      "Epoch 5/100\n",
      "38/38 [==============================] - 2s 62ms/step - loss: 300453.0312 - accuracy: 0.0000e+00\n",
      "Epoch 6/100\n",
      "38/38 [==============================] - 2s 61ms/step - loss: 298240.0000 - accuracy: 0.0000e+00\n",
      "Epoch 7/100\n",
      "38/38 [==============================] - 2s 65ms/step - loss: 296068.2188 - accuracy: 0.0000e+00: 1s - loss: 300139.625\n",
      "Epoch 8/100\n",
      "38/38 [==============================] - 2s 53ms/step - loss: 293978.0000 - accuracy: 0.0000e+00\n",
      "Epoch 9/100\n",
      "38/38 [==============================] - 2s 61ms/step - loss: 291813.6250 - accuracy: 0.0000e+00\n",
      "Epoch 10/100\n",
      "38/38 [==============================] - 2s 59ms/step - loss: 289746.0312 - accuracy: 0.0000e+00\n",
      "Epoch 11/100\n",
      "38/38 [==============================] - 2s 55ms/step - loss: 287804.5938 - accuracy: 0.0000e+00\n",
      "Epoch 12/100\n",
      "38/38 [==============================] - 3s 74ms/step - loss: 285643.0000 - accuracy: 0.0000e+00\n",
      "Epoch 13/100\n",
      "38/38 [==============================] - 3s 66ms/step - loss: 283681.3125 - accuracy: 0.0000e+00\n",
      "Epoch 14/100\n",
      "38/38 [==============================] - 2s 62ms/step - loss: 281843.3438 - accuracy: 0.0000e+00: 1s - loss: 281092.93\n",
      "Epoch 15/100\n",
      "38/38 [==============================] - 3s 89ms/step - loss: 279684.2812 - accuracy: 0.0000e+00\n",
      "Epoch 16/100\n",
      "38/38 [==============================] - 3s 91ms/step - loss: 277800.2812 - accuracy: 0.0000e+00\n",
      "Epoch 17/100\n",
      "38/38 [==============================] - 3s 87ms/step - loss: 275870.8125 - accuracy: 0.0000e+00\n",
      "Epoch 18/100\n",
      "38/38 [==============================] - 3s 89ms/step - loss: 273818.0312 - accuracy: 0.0000e+00: 1s - loss: 276951.0000 - ac\n",
      "Epoch 19/100\n",
      "38/38 [==============================] - 3s 90ms/step - loss: 271852.0312 - accuracy: 0.0000e+00\n",
      "Epoch 20/100\n",
      "38/38 [==============================] - 3s 71ms/step - loss: 270089.0625 - accuracy: 0.0000e+00\n",
      "Epoch 21/100\n",
      "38/38 [==============================] - 3s 73ms/step - loss: 268257.7500 - accuracy: 0.0000e+00\n",
      "Epoch 22/100\n",
      "38/38 [==============================] - 3s 80ms/step - loss: 266485.5312 - accuracy: 0.0000e+00\n",
      "Epoch 23/100\n",
      "38/38 [==============================] - 3s 81ms/step - loss: 264354.9688 - accuracy: 0.0000e+00\n",
      "Epoch 24/100\n",
      "38/38 [==============================] - 3s 77ms/step - loss: 262851.0000 - accuracy: 0.0000e+00: 0s - loss: 264485.4375 - accuracy: 0\n",
      "Epoch 25/100\n",
      "38/38 [==============================] - 3s 74ms/step - loss: 260471.6406 - accuracy: 0.0000e+00\n",
      "Epoch 26/100\n",
      "38/38 [==============================] - 3s 76ms/step - loss: 258839.5312 - accuracy: 0.0000e+00\n",
      "Epoch 27/100\n",
      "38/38 [==============================] - 3s 80ms/step - loss: 257305.6406 - accuracy: 0.0000e+00\n",
      "Epoch 28/100\n",
      "38/38 [==============================] - 3s 73ms/step - loss: 255589.6094 - accuracy: 0.0000e+00\n",
      "Epoch 29/100\n",
      "38/38 [==============================] - 3s 86ms/step - loss: 253636.5469 - accuracy: 0.0000e+00\n",
      "Epoch 30/100\n",
      "38/38 [==============================] - 3s 80ms/step - loss: 251494.0625 - accuracy: 0.0000e+00\n",
      "Epoch 31/100\n",
      "38/38 [==============================] - 3s 74ms/step - loss: 250076.1875 - accuracy: 0.0000e+00\n",
      "Epoch 32/100\n",
      "38/38 [==============================] - 3s 76ms/step - loss: 248176.0781 - accuracy: 0.0000e+00\n",
      "Epoch 33/100\n",
      "38/38 [==============================] - 3s 68ms/step - loss: 246340.0625 - accuracy: 0.0000e+00\n",
      "Epoch 34/100\n",
      "38/38 [==============================] - 3s 78ms/step - loss: 244585.4062 - accuracy: 0.0000e+00\n",
      "Epoch 35/100\n",
      "38/38 [==============================] - 3s 75ms/step - loss: 242924.3906 - accuracy: 0.0000e+00\n",
      "Epoch 36/100\n",
      "38/38 [==============================] - 3s 71ms/step - loss: 241083.1406 - accuracy: 0.0000e+00\n",
      "Epoch 37/100\n",
      "38/38 [==============================] - 3s 74ms/step - loss: 239546.2031 - accuracy: 0.0000e+00\n",
      "Epoch 38/100\n",
      "38/38 [==============================] - 3s 76ms/step - loss: 237719.0312 - accuracy: 0.0000e+00\n",
      "Epoch 39/100\n",
      "38/38 [==============================] - 3s 71ms/step - loss: 235948.6406 - accuracy: 0.0000e+00\n",
      "Epoch 40/100\n",
      "38/38 [==============================] - 3s 73ms/step - loss: 234468.7812 - accuracy: 0.0000e+00\n",
      "Epoch 41/100\n",
      "38/38 [==============================] - 3s 73ms/step - loss: 232398.2656 - accuracy: 0.0000e+00\n",
      "Epoch 42/100\n",
      "38/38 [==============================] - 3s 78ms/step - loss: 231091.4531 - accuracy: 0.0000e+00\n",
      "Epoch 43/100\n",
      "38/38 [==============================] - 3s 81ms/step - loss: 229223.4062 - accuracy: 0.0000e+00\n",
      "Epoch 44/100\n",
      "38/38 [==============================] - 2s 62ms/step - loss: 227674.7188 - accuracy: 0.0000e+00\n",
      "Epoch 45/100\n",
      "38/38 [==============================] - 2s 65ms/step - loss: 226137.5312 - accuracy: 0.0000e+00\n",
      "Epoch 46/100\n",
      "38/38 [==============================] - 3s 77ms/step - loss: 224702.6719 - accuracy: 0.0000e+00\n",
      "Epoch 47/100\n",
      "38/38 [==============================] - 2s 65ms/step - loss: 222906.7812 - accuracy: 0.0000e+00\n",
      "Epoch 48/100\n",
      "38/38 [==============================] - 3s 70ms/step - loss: 221529.6094 - accuracy: 0.0000e+00\n",
      "Epoch 49/100\n",
      "38/38 [==============================] - 3s 69ms/step - loss: 219681.7344 - accuracy: 0.0000e+00\n",
      "Epoch 50/100\n",
      "38/38 [==============================] - 3s 87ms/step - loss: 218311.7188 - accuracy: 0.0000e+00\n",
      "Epoch 51/100\n",
      "38/38 [==============================] - 4s 95ms/step - loss: 216463.7031 - accuracy: 0.0000e+00: 2s - loss: \n",
      "Epoch 52/100\n",
      "38/38 [==============================] - 4s 100ms/step - loss: 214874.0938 - accuracy: 0.0000e+00\n",
      "Epoch 53/100\n",
      "38/38 [==============================] - 3s 89ms/step - loss: 213491.7031 - accuracy: 0.0000e+00\n",
      "Epoch 54/100\n",
      "38/38 [==============================] - 3s 69ms/step - loss: 211914.5312 - accuracy: 0.0000e+00\n",
      "Epoch 55/100\n",
      "38/38 [==============================] - 3s 68ms/step - loss: 210216.0469 - accuracy: 0.0000e+00\n",
      "Epoch 56/100\n",
      "38/38 [==============================] - 3s 78ms/step - loss: 208719.1250 - accuracy: 0.0000e+00\n",
      "Epoch 57/100\n",
      "38/38 [==============================] - 3s 83ms/step - loss: 207059.9062 - accuracy: 0.0000e+00\n",
      "Epoch 58/100\n",
      "38/38 [==============================] - 3s 69ms/step - loss: 205384.9688 - accuracy: 0.0000e+00\n",
      "Epoch 59/100\n",
      "38/38 [==============================] - 3s 80ms/step - loss: 203575.2656 - accuracy: 0.0000e+00\n",
      "Epoch 60/100\n",
      "38/38 [==============================] - 3s 82ms/step - loss: 203222.1094 - accuracy: 0.0000e+00\n",
      "Epoch 61/100\n",
      "38/38 [==============================] - 3s 90ms/step - loss: 200983.1250 - accuracy: 0.0000e+00\n",
      "Epoch 62/100\n",
      "38/38 [==============================] - 3s 77ms/step - loss: 199522.9375 - accuracy: 0.0000e+00\n",
      "Epoch 63/100\n",
      "38/38 [==============================] - 3s 73ms/step - loss: 197739.2188 - accuracy: 0.0000e+00\n",
      "Epoch 64/100\n",
      "38/38 [==============================] - 3s 80ms/step - loss: 196223.6719 - accuracy: 0.0000e+00\n",
      "Epoch 65/100\n",
      "38/38 [==============================] - 3s 78ms/step - loss: 195145.0625 - accuracy: 0.0000e+00\n",
      "Epoch 66/100\n",
      "38/38 [==============================] - 3s 78ms/step - loss: 193417.4219 - accuracy: 0.0000e+00\n",
      "Epoch 67/100\n",
      "38/38 [==============================] - 3s 84ms/step - loss: 192293.6094 - accuracy: 0.0000e+00\n",
      "Epoch 68/100\n",
      "38/38 [==============================] - 3s 85ms/step - loss: 190653.8438 - accuracy: 0.0000e+00\n",
      "Epoch 69/100\n",
      "38/38 [==============================] - 3s 79ms/step - loss: 189277.7812 - accuracy: 0.0000e+00\n",
      "Epoch 70/100\n",
      "38/38 [==============================] - 3s 73ms/step - loss: 187703.2969 - accuracy: 0.0000e+00\n",
      "Epoch 71/100\n",
      "38/38 [==============================] - 3s 78ms/step - loss: 185841.5938 - accuracy: 0.0000e+00\n",
      "Epoch 72/100\n",
      "38/38 [==============================] - 3s 74ms/step - loss: 185215.0312 - accuracy: 0.0000e+00\n",
      "Epoch 73/100\n",
      "38/38 [==============================] - 3s 78ms/step - loss: 183424.9375 - accuracy: 0.0000e+00\n",
      "Epoch 74/100\n"
     ]
    },
    {
     "name": "stdout",
     "output_type": "stream",
     "text": [
      "38/38 [==============================] - 3s 80ms/step - loss: 182098.1250 - accuracy: 0.0000e+00\n",
      "Epoch 75/100\n",
      "38/38 [==============================] - 3s 80ms/step - loss: 180123.3281 - accuracy: 0.0000e+00\n",
      "Epoch 76/100\n",
      "38/38 [==============================] - 3s 79ms/step - loss: 178826.4219 - accuracy: 0.0000e+00: 1s - los\n",
      "Epoch 77/100\n",
      "38/38 [==============================] - 3s 78ms/step - loss: 177210.6094 - accuracy: 0.0000e+00\n",
      "Epoch 78/100\n",
      "38/38 [==============================] - 3s 67ms/step - loss: 176792.4531 - accuracy: 0.0000e+00\n",
      "Epoch 79/100\n",
      "38/38 [==============================] - 3s 72ms/step - loss: 174918.4219 - accuracy: 0.0000e+00\n",
      "Epoch 80/100\n",
      "38/38 [==============================] - 2s 64ms/step - loss: 173804.8281 - accuracy: 0.0000e+00\n",
      "Epoch 81/100\n",
      "38/38 [==============================] - 3s 67ms/step - loss: 172618.2344 - accuracy: 0.0000e+00: 1s - loss: 16780\n",
      "Epoch 82/100\n",
      "38/38 [==============================] - 3s 67ms/step - loss: 171367.9375 - accuracy: 0.0000e+00\n",
      "Epoch 83/100\n",
      "38/38 [==============================] - 3s 77ms/step - loss: 170032.5625 - accuracy: 0.0000e+00\n",
      "Epoch 84/100\n",
      "38/38 [==============================] - 3s 73ms/step - loss: 168393.5938 - accuracy: 0.0000e+00\n",
      "Epoch 85/100\n",
      "38/38 [==============================] - 3s 72ms/step - loss: 166913.5156 - accuracy: 0.0000e+00\n",
      "Epoch 86/100\n",
      "38/38 [==============================] - 3s 73ms/step - loss: 165989.7188 - accuracy: 0.0000e+00\n",
      "Epoch 87/100\n",
      "38/38 [==============================] - 3s 78ms/step - loss: 163917.5781 - accuracy: 0.0000e+00: 1s - los\n",
      "Epoch 88/100\n",
      "38/38 [==============================] - 3s 82ms/step - loss: 163165.0000 - accuracy: 0.0000e+00\n",
      "Epoch 89/100\n",
      "38/38 [==============================] - 3s 68ms/step - loss: 161479.6562 - accuracy: 0.0000e+00\n",
      "Epoch 90/100\n",
      "38/38 [==============================] - 3s 76ms/step - loss: 160202.2344 - accuracy: 0.0000e+00\n",
      "Epoch 91/100\n",
      "38/38 [==============================] - 3s 71ms/step - loss: 159335.4375 - accuracy: 0.0000e+00\n",
      "Epoch 92/100\n",
      "38/38 [==============================] - 3s 76ms/step - loss: 157903.1406 - accuracy: 0.0000e+00\n",
      "Epoch 93/100\n",
      "38/38 [==============================] - 3s 81ms/step - loss: 156387.7344 - accuracy: 0.0000e+00\n",
      "Epoch 94/100\n",
      "38/38 [==============================] - 3s 68ms/step - loss: 155388.7344 - accuracy: 0.0000e+00\n",
      "Epoch 95/100\n",
      "38/38 [==============================] - 3s 79ms/step - loss: 154301.7500 - accuracy: 0.0000e+00\n",
      "Epoch 96/100\n",
      "38/38 [==============================] - 3s 78ms/step - loss: 153073.0625 - accuracy: 0.0000e+00\n",
      "Epoch 97/100\n",
      "38/38 [==============================] - 4s 93ms/step - loss: 151514.0625 - accuracy: 0.0000e+00\n",
      "Epoch 98/100\n",
      "38/38 [==============================] - 3s 86ms/step - loss: 150763.4531 - accuracy: 0.0000e+00\n",
      "Epoch 99/100\n",
      "38/38 [==============================] - 3s 78ms/step - loss: 149593.2344 - accuracy: 0.0000e+00\n",
      "Epoch 100/100\n",
      "38/38 [==============================] - 3s 80ms/step - loss: 147773.0312 - accuracy: 0.0000e+00\n"
     ]
    },
    {
     "data": {
      "text/plain": [
       "<tensorflow.python.keras.callbacks.History at 0x22e28a58a60>"
      ]
     },
     "execution_count": 47,
     "metadata": {},
     "output_type": "execute_result"
    }
   ],
   "source": [
    "model_google.fit(X_train, y_train, epochs=100, batch_size=32)\n"
   ]
  },
  {
   "cell_type": "code",
   "execution_count": 49,
   "metadata": {},
   "outputs": [
    {
     "data": {
      "text/html": [
       "<div>\n",
       "<style scoped>\n",
       "    .dataframe tbody tr th:only-of-type {\n",
       "        vertical-align: middle;\n",
       "    }\n",
       "\n",
       "    .dataframe tbody tr th {\n",
       "        vertical-align: top;\n",
       "    }\n",
       "\n",
       "    .dataframe thead th {\n",
       "        text-align: right;\n",
       "    }\n",
       "</style>\n",
       "<table border=\"1\" class=\"dataframe\">\n",
       "  <thead>\n",
       "    <tr style=\"text-align: right;\">\n",
       "      <th></th>\n",
       "      <th>Date</th>\n",
       "      <th>Open</th>\n",
       "      <th>High</th>\n",
       "      <th>Low</th>\n",
       "      <th>Close</th>\n",
       "      <th>Volume</th>\n",
       "    </tr>\n",
       "  </thead>\n",
       "  <tbody>\n",
       "    <tr>\n",
       "      <th>0</th>\n",
       "      <td>1/3/2017</td>\n",
       "      <td>778.81</td>\n",
       "      <td>789.63</td>\n",
       "      <td>775.80</td>\n",
       "      <td>786.14</td>\n",
       "      <td>1,657,300</td>\n",
       "    </tr>\n",
       "    <tr>\n",
       "      <th>1</th>\n",
       "      <td>1/4/2017</td>\n",
       "      <td>788.36</td>\n",
       "      <td>791.34</td>\n",
       "      <td>783.16</td>\n",
       "      <td>786.90</td>\n",
       "      <td>1,073,000</td>\n",
       "    </tr>\n",
       "    <tr>\n",
       "      <th>2</th>\n",
       "      <td>1/5/2017</td>\n",
       "      <td>786.08</td>\n",
       "      <td>794.48</td>\n",
       "      <td>785.02</td>\n",
       "      <td>794.02</td>\n",
       "      <td>1,335,200</td>\n",
       "    </tr>\n",
       "    <tr>\n",
       "      <th>3</th>\n",
       "      <td>1/6/2017</td>\n",
       "      <td>795.26</td>\n",
       "      <td>807.90</td>\n",
       "      <td>792.20</td>\n",
       "      <td>806.15</td>\n",
       "      <td>1,640,200</td>\n",
       "    </tr>\n",
       "    <tr>\n",
       "      <th>4</th>\n",
       "      <td>1/9/2017</td>\n",
       "      <td>806.40</td>\n",
       "      <td>809.97</td>\n",
       "      <td>802.83</td>\n",
       "      <td>806.65</td>\n",
       "      <td>1,272,400</td>\n",
       "    </tr>\n",
       "  </tbody>\n",
       "</table>\n",
       "</div>"
      ],
      "text/plain": [
       "       Date    Open    High     Low   Close     Volume\n",
       "0  1/3/2017  778.81  789.63  775.80  786.14  1,657,300\n",
       "1  1/4/2017  788.36  791.34  783.16  786.90  1,073,000\n",
       "2  1/5/2017  786.08  794.48  785.02  794.02  1,335,200\n",
       "3  1/6/2017  795.26  807.90  792.20  806.15  1,640,200\n",
       "4  1/9/2017  806.40  809.97  802.83  806.65  1,272,400"
      ]
     },
     "execution_count": 49,
     "metadata": {},
     "output_type": "execute_result"
    }
   ],
   "source": [
    "# Evaluando el modelo con el conjunto de datos para el testeo\n",
    "dataset_test = pd.read_csv('Data/Google_Stock_Price_Test.csv')\n",
    "dataset_test.head()"
   ]
  },
  {
   "cell_type": "code",
   "execution_count": 51,
   "metadata": {},
   "outputs": [
    {
     "data": {
      "text/plain": [
       "('1/10/2017', '1/9/2017')"
      ]
     },
     "execution_count": 51,
     "metadata": {},
     "output_type": "execute_result"
    }
   ],
   "source": [
    "dataset_test['Date'].min(), dataset_test['Date'].max()"
   ]
  },
  {
   "cell_type": "code",
   "execution_count": 52,
   "metadata": {},
   "outputs": [],
   "source": [
    "real_stock_prices = dataset_test.iloc[:,1:2].values"
   ]
  },
  {
   "cell_type": "code",
   "execution_count": 54,
   "metadata": {},
   "outputs": [
    {
     "data": {
      "text/plain": [
       "(1278,)"
      ]
     },
     "execution_count": 54,
     "metadata": {},
     "output_type": "execute_result"
    }
   ],
   "source": [
    "dataset_total = pd.concat((dataset_train['Open'], dataset_test['Open']), axis=0)\n",
    "dataset_total.shape"
   ]
  },
  {
   "cell_type": "code",
   "execution_count": 55,
   "metadata": {},
   "outputs": [
    {
     "data": {
      "text/plain": [
       "1258"
      ]
     },
     "execution_count": 55,
     "metadata": {},
     "output_type": "execute_result"
    }
   ],
   "source": [
    "#Generar X_test\n",
    "first_day_index = len(dataset_total) - len(dataset_test)\n",
    "first_day_index\n"
   ]
  },
  {
   "cell_type": "code",
   "execution_count": 56,
   "metadata": {},
   "outputs": [],
   "source": [
    "inputs = dataset_total[first_day_index -60:].values\n",
    "inputs = inputs.reshape(-1,1)\n",
    "#Escalando inputs\n",
    "#inputs = sc.transform(inputs)"
   ]
  },
  {
   "cell_type": "code",
   "execution_count": 57,
   "metadata": {},
   "outputs": [],
   "source": [
    "X_test = []\n",
    "for i in range(seq_size,80):\n",
    "    X_test.append(inputs[i-seq_size:i,0])\n",
    "\n",
    "X_test = np.array(X_test)"
   ]
  },
  {
   "cell_type": "code",
   "execution_count": 58,
   "metadata": {},
   "outputs": [],
   "source": [
    "(batch_size, timesteps) = X_test.shape\n",
    "X_test = np.reshape(X_test,(batch_size, timesteps,1))"
   ]
  },
  {
   "cell_type": "code",
   "execution_count": 59,
   "metadata": {},
   "outputs": [],
   "source": [
    "#Predecir los valores de X_test\n",
    "predicted_stock_price = model_google.predict(X_test)"
   ]
  },
  {
   "cell_type": "code",
   "execution_count": 60,
   "metadata": {},
   "outputs": [
    {
     "data": {
      "image/png": "[encoded data removed]",
      "text/plain": [
       "<Figure size 432x504 with 1 Axes>"
      ]
     },
     "metadata": {
      "needs_background": "light"
     },
     "output_type": "display_data"
    }
   ],
   "source": [
    "plt.figure(figsize=(6,7))\n",
    "plt.plot(real_stock_prices, color='r', label='Real Google stock')\n",
    "plt.plot(predicted_stock_price, color='g', label='Predicted Google Stock')\n",
    "plt.xlabel('Date')\n",
    "plt.ylabel('Price')\n",
    "plt.legend()\n",
    "plt.show()"
   ]
  },
  {
   "cell_type": "markdown",
   "metadata": {},
   "source": [
    "## Generación de texto usando RNN"
   ]
  },
  {
   "cell_type": "markdown",
   "metadata": {},
   "source": [
    "Cuando se trabaja con texto en un modelo de lenguaje natural (recordar que los tokens son palabras o caracteres), usando cualquier red podríamos modelar la probabilidad del siguiente token (palabra) para construir un modelo de generación de texto. \n",
    "\n",
    "Este modelo de lenguaje natural podría capturar la estructura estadística del texto completo. Entonces, podríamos entrenar una red neuronal para predecir el siguiente carácter, ó de manera similar, podríamos entrenar al modelo para que prediga la siguiente palabra, dada una secuencia de palabras. En este apartado implementaremos un modelo a nivel de caracter.\n",
    "\n",
    "\n",
    "<img src=\"Figures/63.png\" alt=\"Grayscale Image\" width=\"600\">\n",
    "\n",
    "### Implementing in Tensorflow\n",
    "#### The Dataset\n",
    "Usaremos un conjunto de datos que contiene las obras de Shakespeare."
   ]
  },
  {
   "cell_type": "code",
   "execution_count": null,
   "metadata": {},
   "outputs": [],
   "source": [
    "import tensorflow as tf\n",
    "import numpy as np\n",
    "\n",
    "path = tf.keras.utils.get_file('shakespeare.txt', 'https://storage.googleapis.com/download.tensorflow.org/data/shakespeare.txt')"
   ]
  },
  {
   "cell_type": "code",
   "execution_count": null,
   "metadata": {},
   "outputs": [],
   "source": []
  },
  {
   "cell_type": "markdown",
   "metadata": {},
   "source": [
    "### Data Pre-Processing\n",
    "\n",
    "Antes del entrenamiento, necesitamos asignar cadenas a números, extraer secuencias parcialmente superpuestas y empaquetarlas en una matriz numpy 3D de forma (secuencias, maxlen, caracteres únicos). "
   ]
  },
  {
   "cell_type": "code",
   "execution_count": null,
   "metadata": {},
   "outputs": [],
   "source": []
  },
  {
   "cell_type": "markdown",
   "metadata": {},
   "source": [
    "### Construyendo la RNN\n",
    "\n",
    "La red que construiremos será una red con una sola capa LSTM seguida de una ,capa densa con una función de activación softmax."
   ]
  },
  {
   "cell_type": "code",
   "execution_count": null,
   "metadata": {},
   "outputs": [],
   "source": []
  },
  {
   "cell_type": "markdown",
   "metadata": {},
   "source": [
    "### Compile and Train the model\n",
    "\n",
    "Usaremos la función de pérdida `categorical_crossentropy` para entrenar el modelo."
   ]
  },
  {
   "cell_type": "code",
   "execution_count": null,
   "metadata": {},
   "outputs": [],
   "source": []
  },
  {
   "cell_type": "markdown",
   "metadata": {},
   "source": [
    "### Train the model"
   ]
  },
  {
   "cell_type": "code",
   "execution_count": null,
   "metadata": {},
   "outputs": [],
   "source": []
  },
  {
   "cell_type": "markdown",
   "metadata": {},
   "source": [
    "## Generate text"
   ]
  },
  {
   "cell_type": "code",
   "execution_count": null,
   "metadata": {},
   "outputs": [],
   "source": []
  },
  {
   "cell_type": "code",
   "execution_count": null,
   "metadata": {},
   "outputs": [],
   "source": []
  }
 ],
 "metadata": {
  "accelerator": "GPU",
  "colab": {
   "collapsed_sections": [],
   "name": "Colab 5 - Construir una Red Neuronal Recurrente en TensorFlow 2.0.ipynb",
   "provenance": [
    {
     "file_id": "12OM3ntGfd38dUqLJ-Nk82RwKTz3POWGa",
     "timestamp": 1564656346258
    }
   ],
   "version": "0.3.2"
  },
  "kernelspec": {
   "display_name": "Python 3 (ipykernel)",
   "language": "python",
   "name": "python3"
  },
  "language_info": {
   "codemirror_mode": {
    "name": "ipython",
    "version": 3
   },
   "file_extension": ".py",
   "mimetype": "text/x-python",
   "name": "python",
   "nbconvert_exporter": "python",
   "pygments_lexer": "ipython3",
   "version": "3.8.16"
  }
 },
 "nbformat": 4,
 "nbformat_minor": 1
}
