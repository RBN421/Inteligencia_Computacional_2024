{
 "cells": [
  {
   "cell_type": "markdown",
   "metadata": {},
   "source": [
    "<img style=\"float: left;;\" src='Figures/alinco.png' /></a>\n",
    "\n",
    "# <center> <font color= #000047> Hidden State Activation</font>\n",
    "    \n",
    "___\n",
    "    "
   ]
  },
  {
   "cell_type": "markdown",
   "metadata": {},
   "source": [
    "In this notebook you'll take another look at the hidden state activation function. It can be written in two different ways. \n",
    "\n",
    "I'll show you, step by step, how to implement each of them and then how to verify whether the results produced by each of them are same or not.\n",
    "\n",
    "## Background\n",
    "\n",
    "![vanilla rnn](Figures/vanilla_rnn.PNG)\n",
    "\n",
    "\n",
    "This is the hidden state activation function for a vanilla RNN.\n",
    "\n",
    "$h^{<t>}=g(W_{h}[h^{<t-1>},x^{<t>}] + b_h)$                                                    \n",
    "\n",
    "Which is another way of writing this:         \n",
    "\n",
    "$h^{<t>}=g(W_{hh}h^{<t-1>} \\oplus W_{hx}x^{<t>} + b_h)$                                        \n",
    "\n",
    "Where \n",
    "\n",
    "- $W_{h}$ in the first formula is denotes the *horizontal* concatenation of $W_{hh}$ and $W_{hx}$ from the second formula.\n",
    "\n",
    "- $W_{h}$ in the first formula is then multiplied by $[h^{<t-1>},x^{<t>}]$, another concatenation of parameters from the second formula but this time in a different direction, i.e *vertical*!\n",
    "\n",
    "Let us see what this means computationally.\n",
    "\n",
    "## Imports"
   ]
  },
  {
   "cell_type": "code",
   "execution_count": null,
   "metadata": {},
   "outputs": [],
   "source": []
  },
  {
   "cell_type": "markdown",
   "metadata": {},
   "source": [
    "## Joining (Concatenation)\n",
    "\n",
    "### Weights\n",
    "\n",
    "A join along the vertical boundary is called a *horizontal concatenation* or *horizontal stack*. \n",
    "\n",
    "Visually, it looks like this:- $W_h = \\left [ W_{hh} \\ | \\ W_{hx} \\right ]$\n",
    "\n",
    "I'll show you two different ways to achieve this using numpy.\n",
    "\n",
    "__Note: The values used to populate the arrays, below, have been chosen to aid in visual illustration only. They are NOT what you'd expect to use building a model, which would typically be random variables instead.__\n",
    "\n",
    "* Try using random initializations for the weight arrays."
   ]
  },
  {
   "cell_type": "code",
   "execution_count": null,
   "metadata": {
    "tags": []
   },
   "outputs": [],
   "source": [
    "# Create some dummy data\n"
   ]
  },
  {
   "cell_type": "markdown",
   "metadata": {},
   "source": [
    "### Hidden State & Inputs\n",
    "Joining along a horizontal boundary is called a vertical concatenation or vertical stack. Visually it looks like this:\n",
    "\n",
    "$[h^{<t-1>},x^{<t>}] = \\left[ \\frac{h^{<t-1>}}{x^{<t>}} \\right]$\n",
    "\n",
    "\n",
    "I'll show you two different ways to achieve this using numpy.\n",
    "\n",
    "*Try using random initializations for the hiddent state and input matrices.*\n"
   ]
  },
  {
   "cell_type": "code",
   "execution_count": null,
   "metadata": {
    "tags": []
   },
   "outputs": [],
   "source": [
    "# Create some more dummy data\n"
   ]
  },
  {
   "cell_type": "markdown",
   "metadata": {},
   "source": [
    "## Verify Formulas\n",
    "Now you know how to do the concatenations, horizontal and vertical, lets verify if the two formulas produce the same result.\n",
    "\n",
    "__Formula 1:__ $h^{<t>}=g(W_{h}[h^{<t-1>},x^{<t>}] + b_h)$ \n",
    "\n",
    "__Formula 2:__ $h^{<t>}=g(W_{hh}h^{<t-1>} \\oplus W_{hx}x^{<t>} + b_h)$\n",
    "\n",
    "\n",
    "To prove:- __Formula 1__ $\\Leftrightarrow$ __Formula 2__\n",
    "\n",
    "We will ignore the bias term $b_h$ and the activation function $g(\\ )$ because the transformation will be identical for each formula. So what we really want to compare is the result of the following parameters inside each formula:\n",
    "\n",
    "$W_{h}[h^{<t-1>},x^{<t>}] \\quad \\Leftrightarrow \\quad W_{hh}h^{<t-1>} \\oplus W_{hx}x^{<t>} $\n",
    "\n",
    "We'll see how to do this using matrix multiplication combined with the data and techniques (stacking/concatenating) from above.\n",
    "\n",
    "* Try adding a sigmoid activation function and bias term to the checks for completeness.\n"
   ]
  },
  {
   "cell_type": "code",
   "execution_count": null,
   "metadata": {
    "tags": []
   },
   "outputs": [],
   "source": [
    "#"
   ]
  }
 ],
 "metadata": {
  "jupytext": {
   "formats": "ipynb,py:percent",
   "main_language": "python"
  },
  "kernelspec": {
   "display_name": "Python 3 (ipykernel)",
   "language": "python",
   "name": "python3"
  },
  "language_info": {
   "codemirror_mode": {
    "name": "ipython",
    "version": 3
   },
   "file_extension": ".py",
   "mimetype": "text/x-python",
   "name": "python",
   "nbconvert_exporter": "python",
   "pygments_lexer": "ipython3",
   "version": "3.8.8"
  }
 },
 "nbformat": 4,
 "nbformat_minor": 2
}
