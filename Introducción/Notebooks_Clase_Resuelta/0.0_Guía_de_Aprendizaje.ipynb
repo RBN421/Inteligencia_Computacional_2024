{
 "cells": [
  {
   "cell_type": "markdown",
   "metadata": {},
   "source": [
    "<img style=\"float: left;;\" src='Figures/alinco.png' /></a>\n",
    "    \n",
    "# <center> <font color= #000047> Inteligencia Computacional.</font>"
   ]
  },
  {
   "cell_type": "markdown",
   "metadata": {},
   "source": [
    "___\n",
    "\n",
    "\n",
    "\n",
    "#### <font color= #2E9AFE>  `Viernes (17:00 a 21:00 hrs) Sábados (9:00 a 13:00 hrs)  (Virtual)` </font>\n",
    "\n",
    "- <Strong> Gaddiel Desirena López </Strong>\n",
    "- <Strong> Año </Strong>: 2024\n",
    "- <Strong> Copyright: </Strong> MIT License (Exepto donde se indique lo contrario)\n",
    "\n",
    "- <Strong> Email: </Strong>  <font color=\"blue\"> `gdesirena@gmail.com` </font>\n",
    "___"
   ]
  },
  {
   "cell_type": "markdown",
   "metadata": {},
   "source": [
    "### `Presentación mía`\n",
    "___"
   ]
  },
  {
   "cell_type": "markdown",
   "metadata": {},
   "source": [
    "### `Presentación de ustedes`\n",
    "___"
   ]
  },
  {
   "cell_type": "markdown",
   "metadata": {},
   "source": [
    "### `Algunas reglas de juego`\n",
    "\n",
    "- Deben asistir, mínimo, al 80% de las clases para tener derecho a calificación.\n",
    "- La regla más importante de todas (regla de oro): todas las entregas se realizan a través de la plataforma de ALINNCO los plazos asignados. "
   ]
  },
  {
   "cell_type": "markdown",
   "metadata": {},
   "source": [
    "### `Horario de asesoría`\n",
    "\n",
    "Miércoles 18:00 hrs, otros días: **Escribirme mensaje/correo con anticipación para coordinarnos**\n",
    "___"
   ]
  },
  {
   "cell_type": "markdown",
   "metadata": {},
   "source": [
    "### `Descripción de la asignatura`\n",
    "\n",
    "La asignatura de Inteligencia Computacional se centra en el estudio y aplicación de técnicas y algoritmos que permiten a las computadoras realizar tareas que requieren inteligencia humana. Esta asignatura proporciona una base sólida en técnicas avanzadas de inteligencia artificial y su aplicación en la resolución de problemas complejos, preparando a los estudiantes para enfrentar desafíos en diversos campos de la tecnología y la ciencia.\n"
   ]
  },
  {
   "cell_type": "markdown",
   "metadata": {},
   "source": [
    "#### `OBJETIVO  `\n",
    ">  <p style='text-align: justify;'> Presentar técnicas avanzadas en inteligencia computacional tales como redes neuronales artificiales, algoritmos genéticos, optimización de enjambres (PSO) y sistemas difusos.</p>\n",
    "\n",
    "___"
   ]
  },
  {
   "cell_type": "markdown",
   "metadata": {},
   "source": [
    "### `CONTENIDO TEMÁTICO`"
   ]
  },
  {
   "cell_type": "markdown",
   "metadata": {},
   "source": [
    "\n",
    "`Introducción.` **Introducción a la inteligencia computacional**\n",
    "\n",
    "    1. Introducción. \n",
    "    2. Modelos y técnicas de inteligencia computacional.\n",
    "    3. Métodos contemporáneos de inteligencia computacional.\n",
    "    4. Ventajas y desventajas.\n",
    "    \n",
    "`Módulo 1.` **Redes neuronales Recurrentes LSTM y GRU**\n",
    "    \n",
    "    1. Arquitecturas recurrentes con compuertas: LSTM.\n",
    "    2. Arquitecturas recurrentes con compuertas: GRU.\n",
    "    3. Aplicaciones de redes neuronales recurrentes\n",
    "        - Ejercicios en python.\n",
    "\n",
    "`Módulo 2.` **Algoritmos Genéticos y Optimización de emjambre.**\n",
    "    \n",
    "    1. Características, tipos y estrategias de uso de las funciones de algoritmos genéticos.\n",
    "   \n",
    "    2. Características de la optimización de enjambre.\n",
    "       - introducción a la optimización\n",
    "       \n",
    "    3. Tipos de algoritmos de optimización de enjambre.\n",
    "\n",
    "\n",
    "`Módulo 3.` **Sistemas difusos**\n",
    "    \n",
    "    1. Introducción y características de los sistemas difusos.\n",
    "    \n",
    "    2. Aplicaciones de los sistemas y razonamiento inductivo difuso\n",
    "\n",
    "    3. Algoritmos híbridos y sus beneficios, conceptos generales de combinación de algoritmos\n",
    "    "
   ]
  },
  {
   "cell_type": "markdown",
   "metadata": {},
   "source": [
    "### `Evaluación`\n",
    "\n",
    "- Tareas 30%\n",
    "- Actividades 30%\n",
    "- Proyecto Final 40%"
   ]
  },
  {
   "cell_type": "markdown",
   "metadata": {},
   "source": [
    "### `Bibliografía `"
   ]
  },
  {
   "cell_type": "markdown",
   "metadata": {},
   "source": [
    "> \n",
    "```\n",
    "- https://www.python.org/\n",
    "- https://www.kaggle.com/learn\n",
    "- Python for Scientists by Stewart, John M.\n",
    "```\n"
   ]
  },
  {
   "cell_type": "code",
   "execution_count": null,
   "metadata": {},
   "outputs": [],
   "source": []
  }
 ],
 "metadata": {
  "anaconda-cloud": {},
  "kernelspec": {
   "display_name": "Python 3 (ipykernel)",
   "language": "python",
   "name": "python3"
  },
  "language_info": {
   "codemirror_mode": {
    "name": "ipython",
    "version": 3
   },
   "file_extension": ".py",
   "mimetype": "text/x-python",
   "name": "python",
   "nbconvert_exporter": "python",
   "pygments_lexer": "ipython3",
   "version": "3.8.8"
  }
 },
 "nbformat": 4,
 "nbformat_minor": 1
}
