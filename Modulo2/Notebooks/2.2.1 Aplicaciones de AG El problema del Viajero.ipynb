{
 "cells": [
  {
   "cell_type": "markdown",
   "id": "affbc5ea",
   "metadata": {},
   "source": [
    "<img style=\"float: left;;\" src='Figures/alinco.png' /></a>\n",
    "\n",
    "# <center> <font color= #000047> Módulo 2: Aplicación de Algoritmos Genéticos: El problema del Viajero"
   ]
  },
  {
   "cell_type": "markdown",
   "id": "13a54d0e",
   "metadata": {},
   "source": [
    "**Problema del viajero:**\n",
    "\n",
    "Durante décadas, el problema del viajero (TSP, por sus siglas en inglés) ha sido un desafío intrigante para matemáticos, científicos informáticos e investigadores de operaciones. Implica determinar la ruta más corta que debe tomar un viajero para visitar un conjunto de ciudades y regresar al punto de partida. A medida que aumenta el número de ciudades, la complejidad del problema crece exponencialmente, lo que se conoce como explosión combinatoria. Se han intentado soluciones para el TSP mediante una variedad de algoritmos y técnicas, como programación dinámica, ramificación y acotación, algoritmos genéticos y recocido simulado.\n",
    "\n",
    "La complejidad computacional de los algoritmos para resolver el problema del viajante (TSP, por sus siglas en inglés) puede variar significativamente según el enfoque utilizado.\n",
    "\n",
    "El método de **fuerza bruta** explora exhaustivamente todas las posibles permutaciones de ciudades para encontrar la solución óptima.\n",
    "\n",
    "Para un TSP con “n” ciudades, hay (n-1) opciones para la segunda ciudad, (n-2) opciones para la tercera ciudad, y así sucesivamente hasta que solo quede una opción para la última ciudad. El número total de permutaciones se calcula como el factorial de (n-1), denotado como (n-1)!. Por ejemplo, si hay 5 ciudades (n=5), el número de permutaciones es (5–1)! = 4! = 4 x 3 x 2 x 1 = 24. Dado que el vendedor debe regresar a la ciudad de inicio para completar el recorrido, después de calcular el número de permutaciones, lo multiplicamos por “n” para tener en cuenta el inicio del recorrido desde cada una de las “n” ciudades. En el ejemplo con 5 ciudades, tenemos 24 permutaciones para cada ciudad de partida, lo que da un total de 24 x 5 = 120 posibles recorridos para evaluar.\n",
    "\n",
    "La complejidad temporal está determinada por la cantidad total de permutaciones. Como la cantidad de permutaciones es (n-1)! * n, la complejidad temporal del método de fuerza bruta para resolver el TSP es O((n-1)! * n) que se puede simplificar a O(n!).\n",
    "\n",
    "Los **algoritmos genéticos** implican un proceso heurístico basado en el concepto de selección natural. Estos algoritmos pueden no ofrecer la mejor solución posible, pero pueden identificar rápidamente buenas aproximaciones. Es difícil estimar la cantidad de tiempo que lleva completar un algoritmo genético, ya que depende del tamaño de la población, la cantidad de generaciones y otros factores.\n",
    "\n",
    "Es importante tener en cuenta que el problema del viajero es un problema NP-hard, lo que significa que no se ha encontrado ningún algoritmo que sea de tiempo polinomial para resolverlo. "
   ]
  },
  {
   "cell_type": "code",
   "execution_count": null,
   "id": "7dea936e",
   "metadata": {},
   "outputs": [],
   "source": [
    "#importar librerías"
   ]
  },
  {
   "cell_type": "markdown",
   "id": "fbc6ad94",
   "metadata": {},
   "source": [
    "En la siguiente implementación, las ciudades se toman como genes, la cadena generada con estos caracteres se denomina cromosoma, mientras que un puntaje de aptitud que es igual a la longitud de la ruta de todas las ciudades mencionadas se utiliza para determinar una población. El puntaje de aptitud se define como la longitud de la ruta descrita por el gen. Cuanto menor sea la longitud de la ruta, más apto será el gen. El más apto de todos los genes del acervo genético sobrevive y pasa a la siguiente iteración. La cantidad de iteraciones depende del valor de una variable de costo. El valor de la variable de costo sigue disminuyendo con cada iteración y alcanza un umbral después de una cierta cantidad de iteraciones."
   ]
  },
  {
   "cell_type": "markdown",
   "id": "0d50b2e3",
   "metadata": {},
   "source": [
    "Para encontrrar una solución a este problema se realizarán los siguientes pasos:\n",
    "\n",
    "> 1. Se inicializa la población.\n",
    "\n",
    "> 2. Se calcula la aptitud de los individuos.\n",
    "\n",
    "> 3. Se aplica el método de selección de ruleta a los individuos.\n",
    "\n",
    "> 4. Se realiza el cruce entre los individuos seleccionados.\n",
    "\n",
    "> 5. Se realiza la mutación en la descendencia resultante.\n",
    "\n",
    "> 6. Se reemplaza un subconjunto de la población anterior con una nueva descendencia (Reemplazo).\n",
    "\n",
    "> 7. Se mezcla la nueva población y la devuelve.\n",
    "\n",
    "> 8. Se repite para la cantidad de generaciones y termina."
   ]
  },
  {
   "cell_type": "code",
   "execution_count": null,
   "id": "f5d1d5d8",
   "metadata": {},
   "outputs": [],
   "source": [
    "#Función para inicializar la población"
   ]
  },
  {
   "cell_type": "code",
   "execution_count": null,
   "id": "d7592cb3",
   "metadata": {},
   "outputs": [],
   "source": [
    "#Función para calcular la distancia entre las ciudades "
   ]
  },
  {
   "cell_type": "code",
   "execution_count": null,
   "id": "efe32038",
   "metadata": {},
   "outputs": [],
   "source": [
    "#funcion para calcular la distancia apartir de una ciudad \n"
   ]
  },
  {
   "cell_type": "code",
   "execution_count": null,
   "id": "3233b158",
   "metadata": {},
   "outputs": [],
   "source": [
    "#Función para calcular el fitness (función de costo)\n"
   ]
  },
  {
   "cell_type": "code",
   "execution_count": null,
   "id": "f78e5b38",
   "metadata": {},
   "outputs": [],
   "source": [
    "#Función para calvular la rueda de ruleta\n"
   ]
  },
  {
   "cell_type": "code",
   "execution_count": null,
   "id": "7691877a",
   "metadata": {},
   "outputs": [],
   "source": [
    "#Función para calcular el crossover"
   ]
  },
  {
   "cell_type": "code",
   "execution_count": null,
   "id": "e219e556",
   "metadata": {},
   "outputs": [],
   "source": [
    "#Función para calcular la mutación "
   ]
  },
  {
   "cell_type": "code",
   "execution_count": null,
   "id": "48725db4",
   "metadata": {},
   "outputs": [],
   "source": [
    "#Función principal para correr la optimización\n"
   ]
  },
  {
   "cell_type": "markdown",
   "id": "9ca8baad",
   "metadata": {},
   "source": [
    "#### Seteando los parámetros del problema"
   ]
  },
  {
   "cell_type": "code",
   "execution_count": null,
   "id": "bfda8ac5",
   "metadata": {},
   "outputs": [],
   "source": []
  },
  {
   "cell_type": "code",
   "execution_count": null,
   "id": "213c1d0b",
   "metadata": {},
   "outputs": [],
   "source": [
    "#Encontrar la mejor ruta"
   ]
  },
  {
   "cell_type": "code",
   "execution_count": null,
   "id": "d9c4620c",
   "metadata": {},
   "outputs": [],
   "source": [
    "#Plotear la mejor ruta apartir de la solución"
   ]
  },
  {
   "cell_type": "code",
   "execution_count": null,
   "id": "1ab2e307",
   "metadata": {},
   "outputs": [],
   "source": []
  }
 ],
 "metadata": {
  "kernelspec": {
   "display_name": "Python 3 (ipykernel)",
   "language": "python",
   "name": "python3"
  },
  "language_info": {
   "codemirror_mode": {
    "name": "ipython",
    "version": 3
   },
   "file_extension": ".py",
   "mimetype": "text/x-python",
   "name": "python",
   "nbconvert_exporter": "python",
   "pygments_lexer": "ipython3",
   "version": "3.8.8"
  }
 },
 "nbformat": 4,
 "nbformat_minor": 5
}
