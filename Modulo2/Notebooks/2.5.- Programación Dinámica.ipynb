{
 "cells": [
  {
   "cell_type": "markdown",
   "id": "e8c8d2eb",
   "metadata": {},
   "source": [
    "<img style=\"float: left;;\" src='Figures/alinco.png' /></a>\n",
    "\n",
    "# <center> <font color= #000047>  Módulo 2: Programación Dinámica y Caminata Aleatoria\n",
    "    \n",
    "___"
   ]
  },
  {
   "cell_type": "markdown",
   "id": "856ed381",
   "metadata": {},
   "source": [
    "## Programacion dinámica\n",
    "\n",
    "### Introduccion a la Programación Dinámica\n",
    "\n",
    "<i>La programación dinámica es es un método para reducir el tiempo de ejecución de un algoritmo mediante la utilización de subproblemas superpuestos y subestructuras óptimas.</i>\n",
    "\n",
    "El matemático Richard Bellman inventó la programación dinámica en 1953 que se utiliza para optimizar problemas complejos que pueden ser <i>discretizados y secuencializados</i>.\n",
    "\n",
    "La programación dinámica permite optimizar ciertos problemas que cuentan con.\n",
    "\n",
    "> <strong>Subestructura Óptima:</strong>\n",
    "    <i>Una solución global óptima se puede encontrar al combinar soluciones óptimas de subproblemas locales.</i>\n",
    "    \n",
    "    En otras palabras, los subproblemas se resuelven a su vez dividiéndolos en subproblemas más pequeños hasta que se alcance el caso fácil, donde la solución al problema es trivial. \n",
    "\n",
    "> <strong>Problemas empalmados:</strong>\n",
    "    \n",
    "    Una solución óptima que involucra resolver el mismo problema en varias ocasiones (cómo en el caso de la recursiviadad).</i>\n",
    "    Es decir, que se usa un mismo subproblema para resolver diferentes problemas mayores. Por ejemplo, en la sucesión de Fibonacci <i>(f3 = f1 + f2) y (f4 = f2 + f3).\n"
   ]
  },
  {
   "cell_type": "markdown",
   "id": "6b3d929e",
   "metadata": {},
   "source": [
    "\n",
    "La optimizacion para que el programa se ejecute mucho más rápido se logra a través de la <strong>memorización:</strong>\n",
    "- <i>La memorización es una técnica para guardar cómputos previos y evitar realizarlos nuevamente.</i>\n",
    "- <i>Normalmente se utiliza un diccionario { } , donde las consultas se pueden hacer en O(1) .</i> \n",
    "- <i>Intercambia: Tiempo vs Espacio en memoria.</i>\n",
    "  \n",
    "La <strong>memorización</strong> nos ayuda a evitar computos adicionales, guardando el resultado de computaciones previas en alguna estructura de datos que podemos consultar rápidamente.\n",
    "\n",
    "El nombre de Programación Dinámica lo escogió Bellman para esconder a los patrocinadores gubernamentales que financiaban su investigacion, el hecho que en realidad estaba haciendo matemáticas. Lo usó para que ningún congresista pudiera oponerse a financiarlo con ese nombre tan atractivo.\n",
    "\n",
    "> Los algoritmos PD se aplican a problemas de optimización y parten siempre de una definición recursiva (ecuación de Bellman), que expresa la solución óptima a un problema como combinación de las soluciones óptimas a ciertos subproblemas que se derivan del primero.\n",
    "\n",
    "> No todos los problemas de optimización admiten una expresión recursiva de este tipo. Sólo aquéllos que cumplen el principio de optimalidad de Bellman: El principio de optimalidad se cumple si la solución óptima a un problema contiene dentro de sí las soluciones óptimas a todos los subproblemas en que podemos dividirlo.\n",
    "\n",
    "Considerese, por ejemplo, el siguiente problema: encontrar el camino de coste mínimo entre dos nodos u y v de un grafo ponderado. Si dicho camino pasa por otro nodo w, necesariamente los caminos que van de u a w y de w a v han de ser también de coste mínimo.\n",
    "\n",
    "\n"
   ]
  },
  {
   "cell_type": "markdown",
   "id": "745ffedb",
   "metadata": {},
   "source": [
    "### Optimizacion de Fibonacci\n",
    "\n",
    "Recordemos los numeros de Fibonacci.\n",
    "\n",
    "<div align=\"center\">\n",
    "    <img src=\"https://miro.medium.com/max/1920/1*CQFUHyT83yR5qnLpsN3W4g@2x.png\" width=\"400\" height=\"150\" >\n",
    "    <img src=\"https://upload.wikimedia.org/wikipedia/commons/thumb/b/bf/PascalTriangleFibanacci.svg/360px-PascalTriangleFibanacci.svg.png\" width=\"350\" height=\"250\" >\n",
    "    <br></br>\n",
    "</div>\n",
    "\n",
    "<div align=\"center\">\n",
    "    <img src=\"https://i.pinimg.com/originals/9a/5f/bf/9a5fbfa150fdeab90a3fd4c39afedf54.gif\" width=\"450\" height=\"250\" >\n",
    "    <br></br>\n",
    "</div>\n",
    "\n",
    "La forma recursiva de Fibonacci <i>f(n) = f<sub>n-1</sub> + f<sub>n-2 </sub></i> es muy fácil de implementar en código, pero es poco eficiente ya que repetimos el mismo computo muchas veces, aumentando innecesariamente la cantidad de iteraciones y, por lo tanto, el tiempo de ejecución.\n",
    "\n",
    "\n",
    "Para optimizar esta función haremos uso de la memorización anteriormente mencionada.\n",
    "Aqui tenemos una implementación de <i>Fibonacci Recursivo vs Fibonacci Dinámico: </i>"
   ]
  },
  {
   "cell_type": "code",
   "execution_count": null,
   "id": "f129e6c5",
   "metadata": {},
   "outputs": [],
   "source": []
  },
  {
   "cell_type": "code",
   "execution_count": null,
   "id": "5495e1b4",
   "metadata": {},
   "outputs": [],
   "source": []
  },
  {
   "cell_type": "markdown",
   "id": "9922adb6",
   "metadata": {},
   "source": [
    "En esta parte tenemos la función de `fibonacci_recursivo()`. Definimos la función con un parámetro <i>n</i> de entrada, ahora en el primer `if` cómo sabemos que el caso base de Fibonacci para 0 y 1 es igual a 1 solo retornamos 1. De no ser así, retornaremos una llamada recursiva de Fibonacci para el numero anterior <i>(n-1)</i> más el numero anterior a ese <i>(n-2)</i>.\n",
    "\n",
    "Recordemos que la recursividad es la forma en la cual se especifica un proceso basado en su propia definición, que en este caso es una función llamandose a sí misma.\n",
    "\n",
    "<div align=\"center\">\n",
    "    <img src=\"Figures/arbol_fib_rec.png\" width=\"450\" height=\"250\" >\n",
    "    <br></br>\n",
    "</div>\n",
    "\n",
    "En `fibonacci_dinamico()` tenemos la version <i>dinámica</i>. Primero definimos la función `fibonacci_dinamico()`, donde a diferencia de la primera tenemos un parametro extra llamado `memoria{}` , que es un diccionario que en este caso será nuestra estructura de datos para efectuar la <i>memorización</i>\n",
    "\n",
    "Ahora tenemos algo nuevo llamado `try/except`, este es un buen mecanismo para el control del flujo del programa ya que nos permite manejar la excepciones que puedan surgir y tomar acciones de recuperación para evitar la interrupción del programa o, al menos, para realizar algunas acciones adicionales antes de interrumpirlo.\n",
    "\n",
    "```py\n",
    "    try:\n",
    "        return memoria[n]\n",
    "```\n",
    "Dentro del bloque `try` se ubica todo el código que pueda llegar a levantar una excepción, se utiliza el término levantar para referirse a la acción de <i>generar una excepción</i>.\n",
    "\n",
    "Si tenemos como llave <i>[n]</i> en el diccionario, regresemos <i>n</i>.\n",
    "\n",
    "```py\n",
    "    except KeyError:\n",
    "        resultado = fibonacci_dinamico(n-1, memoria) + fibonacci_dinamico(n-2, memoria)\n",
    "        memoria[n] = resultado\n",
    "        return resultado\n",
    "```\n",
    "El bloque `except` se encarga de capturar la excepción y nos da la oportunidad de procesarla.\n",
    "\n",
    "Si NO tenemos como llave <i>[n]</i> en el diccionario, anticiparemos el `KeyError` que nos saldría al intentar acceder a una llave que no existe.\n",
    "\n",
    "Nos anticiparemos llamando a la funcion `fibonacci_dinamico()` para <i>(n-1)</i> y <i>(n-2)</i>, pero en este caso tendremos como parametro extra el diccionario `memoria{}` que es donde guardaremos el resultado anterior para, posteriormente, tomar este valor en la siguiente iteración.\n",
    "\n",
    "Esta es la parte diferenciadora entre la versión <i>recursiva simple</i> y <i>la versión dinámica</i>, ya que al tener los resultados de iteraciones anteriores dentro del diccionario nos ahorraremos el tiempo del calcular todos los resultados anteriores de <i>n</i> para solo tener que buscar ese resultado anterior dentro del diccionario y sumarlo, lo cual hace MUCHO más eficiente el algoritmo.\n",
    "\n",
    "Tan solo calcular <i>n=50</i> con `fibonacci_recursivo()` toma muchísimo más tiempo que calcular <i>n=500</i> con `fibonacci_dinamico()`.\n",
    "\n",
    "\n",
    "<div align=\"center\">\n",
    "    <img src=\"Figures/arbol_fib_din.png\" width=\"450\" height=\"250\" >\n",
    "    <br></br>\n",
    "</div>\n",
    "\n",
    "```py\n",
    "import sys\n",
    "    .\n",
    "    .\n",
    "    .\n",
    "    sys.setrecursionlimit(10000)\n",
    "```\n",
    "\n",
    "Estas lineas nos ayudan a incrementar el límite de recursividad limitado por python, importando la librería `sys` para seleccionar el limite de recursión. \n",
    "\n",
    "**NOTA:** Hay que tener cuidado con incrementar demasiado el limite de recursividad.\n",
    "\n"
   ]
  },
  {
   "cell_type": "markdown",
   "id": "9255b27e",
   "metadata": {},
   "source": [
    "## Esquema de diseño\n",
    "\n",
    "Los algoritmos de programación dinámica tratan de resolver un problema de optimización, de modo que maximizarán (o minimizarán) el valor de una función objetivo que mide la bondad (o el coste) de una solución. Como resultado se obtendrá una solución óptima (podría haber varias).\n",
    "\n",
    "**El proceso consta típicamente de 4 pasos:**\n",
    "\n",
    "> 1.- Definir la función objetivo\n",
    "\n",
    "> 2.- Definir recursivamente (ecuación de Bellman) el valor óptimo de la función objetivo correspondiente a un problema en términos de los valores óptimos de dicha función para ciertos subproblemas \n",
    "\n",
    "> 3.- Calcular los valores óptimos de la función objetivo de abajo arriba, empezando por problemas elementales y aplicando la definición recursiva del paso **2** hasta llegar al problema planteado originalmente \n",
    "\n",
    "> 4.- Recuperar la solución óptima a partir de información almacenada durante el proceso de optimización.\n",
    "\n",
    "El paso **4** puede omitirse si sólo interesa el valor óptimo de la función objetivo. \n",
    "\n",
    "**IMPORTANTE:** para reconstruir la solución óptima, será necesario guardar el camino seguido (la secuencia de decisiones) en el proceso de optimización."
   ]
  },
  {
   "cell_type": "markdown",
   "id": "1bf0c789",
   "metadata": {},
   "source": [
    "## El problema de la mochila"
   ]
  },
  {
   "cell_type": "markdown",
   "id": "c1bad77f",
   "metadata": {},
   "source": [
    "Considerese una mochila capaz de albergar un peso máximo $M$, y $n$ elementos con pesos $p1, p2, . . . , pn$ y beneficios $b1, b2, . . . , bn$. Tanto $M$ como los $p_i$ serán enteros, lo que permitirá utilizarlos como índices en una tabla. Se trata de encontrar qué combinación de elementos, representada mediante la tupla $x = (x1, x2, . . . , xn)$, con $xi \\in \\{0, 1\\}$, maximiza el beneficio:\n",
    "\n",
    "$$ f(x) = \\sum_{i=1}^n b_i x_i$$\n",
    "\n",
    "sin soobrepasar el peso máximo $M$\n",
    "\n",
    "$$ \\sum_{i=1}^n p_i x_i \\leq M$$"
   ]
  },
  {
   "cell_type": "markdown",
   "id": "e8f2609a",
   "metadata": {},
   "source": [
    "- Empezaremos con una versión recursiva que, partiendo de un prefijo $x$ de longitud $k$ y un peso disponible $r$, devuelve una solución óptima junto con el máximo valor alcanzable de la función objetivo.\n",
    "\n",
    "- Para ello, a partir del prefijo x, se explorarán las dos opciones posibles: añadir el objeto k (comprobando la condición **2**) o no añadirlo.\n",
    "\n"
   ]
  },
  {
   "cell_type": "code",
   "execution_count": null,
   "id": "59b485c1",
   "metadata": {},
   "outputs": [],
   "source": [
    "#Versión recursiva de referencia\n",
    "# Solucion y maximo beneficio alcanzable\n",
    "# con los objetos 0..i -1 , teniendo un peso m\n",
    "# disponible en la mochila\n"
   ]
  },
  {
   "cell_type": "markdown",
   "id": "bca6093f",
   "metadata": {},
   "source": [
    "### Versión de programación dinámica 1\n",
    "El beneficio acumulado de la mejor solución para cada caso $(i, m)$ se almacena en una matriz $t$, de tamaño $(n + 1) × (M + 1)$"
   ]
  },
  {
   "cell_type": "code",
   "execution_count": null,
   "id": "4b2ae02b",
   "metadata": {},
   "outputs": [],
   "source": [
    "# Devuelve el maximo beneficio alcanzable con los objetos\n",
    "# de pesos p y beneficios b, teniendo un peso M disponible\n"
   ]
  },
  {
   "cell_type": "code",
   "execution_count": null,
   "id": "72485416",
   "metadata": {},
   "outputs": [],
   "source": []
  },
  {
   "cell_type": "code",
   "execution_count": null,
   "id": "dd68b7d4",
   "metadata": {},
   "outputs": [],
   "source": []
  },
  {
   "cell_type": "code",
   "execution_count": null,
   "id": "31bb4ccc",
   "metadata": {},
   "outputs": [],
   "source": [
    "opt"
   ]
  },
  {
   "cell_type": "markdown",
   "id": "b624cb9e",
   "metadata": {},
   "source": [
    "<div align=\"center\">\n",
    "    <img src=\"Figures/ejemplo_moch_din.png\" width=\"450\" height=\"250\" >\n",
    "    <br></br>\n",
    "</div>\n",
    "\n"
   ]
  },
  {
   "cell_type": "markdown",
   "id": "887d38dc",
   "metadata": {},
   "source": [
    "### Versión de programación dinámica 2\n",
    "\n",
    "El procedimiento sólo requiere dos filas de la matriz: la actual y la anterior, puesto que la óptimización de la fila $i$ sólo depende de la fila $i-1$.\n",
    "\n"
   ]
  },
  {
   "cell_type": "code",
   "execution_count": null,
   "id": "be04af5d",
   "metadata": {},
   "outputs": [],
   "source": []
  },
  {
   "cell_type": "code",
   "execution_count": null,
   "id": "9f787a9e",
   "metadata": {},
   "outputs": [],
   "source": [
    "mochila_d_pd2(p,b,M)"
   ]
  },
  {
   "cell_type": "markdown",
   "id": "42a28299",
   "metadata": {},
   "source": [
    "### Versión de programación dinámica 3\n",
    "\n",
    "**Recuperación de la solución:** una matriz $d$ guarda las decisiones tomadas, se retrocede fila a fila desde el elemento $d[n][M]$ hasta la fila 0.\n",
    "\n",
    "\n"
   ]
  },
  {
   "cell_type": "code",
   "execution_count": null,
   "id": "e50b972a",
   "metadata": {},
   "outputs": [],
   "source": []
  },
  {
   "cell_type": "code",
   "execution_count": null,
   "id": "4ca07662",
   "metadata": {},
   "outputs": [],
   "source": [
    "mochila_d_pd3(p,b,M)"
   ]
  },
  {
   "cell_type": "markdown",
   "id": "ddd3a876",
   "metadata": {},
   "source": [
    "### Versión de programación dinámica 4\n",
    "\n",
    "**Recuperación de la solución:** : los vectores `ant` y `act` almacenan el beneficio máximo alcanzable junto con la lista de decisiones correspondiente. Al terminar, el elemento `act[M]` contiene el beneficio máximo alcanzable y la solución.\n",
    "\n",
    "\n"
   ]
  },
  {
   "cell_type": "code",
   "execution_count": null,
   "id": "ab43722c",
   "metadata": {},
   "outputs": [],
   "source": [
    "# Devuelve el maximo beneficio alcanzable con los objetos\n",
    "# de pesos p y beneficios b, teniendo un peso M disponible ,\n",
    "# asi como la solucion que lo produce\n"
   ]
  },
  {
   "cell_type": "code",
   "execution_count": null,
   "id": "4d196fa9",
   "metadata": {},
   "outputs": [],
   "source": [
    "mochila_d_pd4(p,b,M)"
   ]
  },
  {
   "cell_type": "markdown",
   "id": "050b79e0",
   "metadata": {},
   "source": [
    "\n",
    "## Caminos aleatorios\n",
    "\n",
    "### ¿Qué son los caminos aleatorios?\n",
    "\n",
    "* Es un tipo de simulación que elige aleatoriamente una decisión dentro de un conjunto de decisiones válidas.\n",
    "\n",
    "* Se utilizan en muchos campos del conocimiento cuando los sistemas <i>no son deterministas</i> e incluyen elementos de aleatoriedad.\n",
    "\n",
    "* Nos permiten realizar simulaciones de eventos de carácter probabilístico o no determinista para entender su comportamiento desde otra perspectiva de análisis.\n",
    "\n",
    "* Se denomina estocástico al sistema cuyo comportamiento intrínseco es no determinista.\n",
    "\n",
    "\n",
    "<div align=\"center\">\n",
    "    <img src=\"https://upload.wikimedia.org/wikipedia/commons/c/c2/Brownian_motion_large.gif\" width=\"300\" height=\"300\" >\n",
    "    <h6>Movimiento browniano </h6>\n",
    "</div>\n",
    "\n",
    "---\n",
    "### Caminana aleatoria\n",
    "\n",
    "Imaginemos que queremos describir el comportamiento de un individuo que camina aleatoriamente dando pasos hacia adelante, atras, izquierda y derecha con la misma probabilidad.\n",
    "\n",
    "Primero vamos a posicionarnos en un plano cartesiano en donde vamos a describir la trayectoria aleatoria.\n",
    "\n",
    "<div align=\"center\">\n",
    "    <img src=\"https://concepto.de/wp-content/uploads/2019/09/plano-cartesiano-cuadrantes-e1569779047143.jpg\" width=\"400\" height=\"300\" >\n",
    "    <br></br>\n",
    "</div>\n",
    "\n",
    "Para atacar este problema tomaremos un enfoque de POO, lo vamos a dividir en 3 clases, la clase `Individuo` que modelará a la persona que efectúa el movimiento, la clase `Campo` que es el entorno en el cual se va a mover y la clase `Coordenada` que modelará el punto en el que se encuentra a lo largo del recorrido.\n"
   ]
  },
  {
   "cell_type": "code",
   "execution_count": null,
   "id": "2ff71b10",
   "metadata": {},
   "outputs": [],
   "source": []
  },
  {
   "cell_type": "markdown",
   "id": "8cae5d15",
   "metadata": {},
   "source": [
    "Recordando el concepto de <i>herencia de POO</i>, podemos observar que estamos creando la superclase `Individuo` que solo recibe como parametro nombre (recordemos que `self` es obligatorio en cada una ya que hace referencia a la instancia).\n",
    "\n",
    "Después extendemos la superclase `Individuo` hacia la subclase `Aleatorio_Tradicional` que modelará una persona que se mueve aleatoriamente con 25% de probabilidad en cada una de las 4 direcciones del plano, en la cual crearemos el método `camina()` donde gracias al método `random.choice` simplemente devolverá una selección aleatoria de los valores de nuestra <i>tupla</i> que representa las diferentes direcciones en las que puede dar un paso.\n",
    "\n",
    "Para la clase `Coordenadas` tenemos lo siguiente.\n"
   ]
  },
  {
   "cell_type": "code",
   "execution_count": null,
   "id": "dab9331e",
   "metadata": {},
   "outputs": [],
   "source": []
  },
  {
   "cell_type": "markdown",
   "id": "7752b57a",
   "metadata": {},
   "source": [
    "\n",
    "Creamos la clase con parametros <i>x </i> y <i>y</i>  en su constructor e iniciamos los atributos de instancia  `self.x` y `self.y` que almacenarán las coordenadas a lo largo del movimiento.\n",
    "\n",
    "Después creamos el método `mover` con parametros `delta_x` y `delta_y` el cual se encargará de traer a la clase `Coordenada`, pero con la siguiente posición, ya que le habrá sumado las diferencias en <i>x </i> y <i>y</i>.\n",
    "\n",
    "Ahora definimos el método `distancia` que recibirá como parámetro `otra_coordenada`, donde tendremos los atributos de instancia `delta_x` y `delta_y` las cuales son, respectivamente, las diferencias en en el eje <i>x </i> y <i>y</i> . Despúes efectuaremos el Torema de Pitágoras para obtener la distancia resultante.\n",
    "\n",
    "En la clase `campo` tenemos lo siguiente.\n"
   ]
  },
  {
   "cell_type": "code",
   "execution_count": null,
   "id": "688e7491",
   "metadata": {},
   "outputs": [],
   "source": []
  },
  {
   "cell_type": "markdown",
   "id": "b3ce0511",
   "metadata": {},
   "source": [
    "\n",
    "Recordemos que el <i>campo</i> modelará el entorno en el que están nuestros individuos y pueden moverse, aquí comenzaremos creando la clase `campo` que no tendrá más parámetros que la referencia a la instancia y definiremos un <i>artibuto de instancia</i> llamado `.coordenadas_de_persona` que simplemente sera un diccionario que guardará las coordenadas.\n",
    "\n",
    "Ahora vamos a crear 3 métodos, el <i>primero</i> será `anadir_persona` que recibira el parametro <i>persona y coordenda</i>, el cual podemos imaginarlo como la acción se situar a algun individuo en el plano, en cierta coordenada. Aquí mismo tendremos una llamada al atributo `.coordenadas_de_persona[persona]` que irá guardando las coordenadas en el diccionario que despúes será de ayuda para trazar su recorrido.\n",
    "\n",
    "El <i>segundo método</i> es `mover_persona` que tiene como atributo el individuo que queremos mover. Guardaremos en `delta_x` y `delta_y` los valores aleatorios arrojados por `.camina()`, después obtenemos la coordenada actual del diccionario <i>{ }</i> del método anterior y ,posteriormente, obtenemos una nueva coordenada que será igual a la coordenada actual más el moviemiento de `delta_x` y `delta_y` y esta la añadiremos a nuestra lista de coordenadas.\n",
    "\n",
    "El <i>tecer método</i> `obtener_coordenada` solo tendrá como parametro al individuo que queremos ubicar y lo único que hará será regresar el valor de nuestra coordenada almacenada actualmente en nuestra lista de coordenadas.\n",
    "\n",
    "<div align=\"center\"><br>\n",
    "    <img src=\"https://www.bigger-tree.org/post/2019-09-15-random-walking/rw_anim.gif\" width=\"350\" height=\"200\" >\n",
    "    </br>\n",
    "</div>\n",
    "<br></br>\n",
    "\n",
    "\n",
    "---\n"
   ]
  },
  {
   "cell_type": "markdown",
   "id": "89dcd6c0",
   "metadata": {},
   "source": [
    "\n",
    "### Desarrollando la simulación\n",
    "\n",
    "Lo siguiente será desarollar el programa que se encargue de la simulación.\n"
   ]
  },
  {
   "cell_type": "code",
   "execution_count": null,
   "id": "4ae534fc",
   "metadata": {},
   "outputs": [],
   "source": []
  },
  {
   "cell_type": "markdown",
   "id": "bab922d5",
   "metadata": {},
   "source": [
    "\n",
    "#### Explicacion de simulación\n",
    "\n",
    "Primero crearemos nuestra función `caminata()` para simular el comportamiento de moverse en el plano.\n",
    "\n",
    "```py\n",
    "def caminata(campo, persona, pasos):\n",
    "    inicio = campo.obtener_coordenada(persona)\n",
    "\n",
    "    for _ in range(pasos):\n",
    "        campo.mover_persona(persona)\n",
    "\n",
    "    return inicio.distancia(campo.obtener_coordenada(persona))\n",
    "```\n",
    "\n",
    "Tendremos como parámetros <i>campo, persona y pasos</i> para deescribir el movimiento en el plano. Y pasamos a crear una variable que nos de el punto inicial de cada movimiento que lo que hará será ejecutar el método de <i>Campo</i> `obtener_coordenada()`.\n",
    "\n",
    "Creamos un ciclo `for _` donde no tenemos variable <i>i</i>, eso significa que solo crearemos el rango que será el número de pasos que dé la persona en la simulación. Y en cada iteración o <i>paso</i> vamos a ejecutar el método de <i>Campo</i> `.mover_persona` y después obtenemos la distancia que hay entre la coordenada de inicio y la otra coordenada con `.distancia`, método definido en el módulo de `coordenada`.\n",
    "\n",
    "\n",
    "Después crearemos la función `simular_caminata()` .\n",
    "\n",
    "```py\n",
    "def simular_caminata(pasos, numero_de_intentos, tipo_de_tendencia):\n",
    "    persona = tipo_de_tendencia(nombre = 'Abdiel')\n",
    "    origen = Coordenada(0,0)\n",
    "    distancias = []\n",
    "\n",
    "    for _ in range(numero_de_intentos):\n",
    "        campo = Campo()\n",
    "        campo.anadir_persona(persona, origen)\n",
    "        simulacion_caminata = caminata(campo, persona, pasos)\n",
    "        distancias.append(round(simulacion_caminata, 1))\n",
    "    \n",
    "    return distancias\n",
    "```\n",
    "\n",
    "Para esta función nos interesa saber cuantos pasos dio el individuo, el número de veces que se ejecutó la simulación y la subclase a la que nos referimos.\n",
    "\n",
    "Vamos a crear una variable llamada `persona` que va a inicializar una instancia de la subclase. Despúes definimos el origen de coordenadas <i>(0,0)</i> y creamos una <i>lista[ ]</i> donde guardaremos los valores de las <i>distancias</i> que obtengamos en cada una de la simulaciones. Ejecutaremos un ciclo `for()` para un rango que en este caso es el <i>numero_de_intentos</i> de la simulación.\n",
    "\n",
    "Posteriormente se ejecutara un bloque de instrucciones donde primero haremos una llamada a la clase `Campo()` y ejecutaremos el método de <i>Campo</i> `.anadir_persona` para posicionarla en el punto inicial de nuestra simulación. Posteriormente guardamos en la variable `simulacion_caminata` el valor arrojado al ejecutar la funcion `caminata()` anteriormente añadida, después agregamos ese valor a nuestra lista de <i>distancias</i> y recortamos los decimales. Y finalmente retornamos nuestro valor de <i>distancias</i>.\n",
    "\n",
    "El siguiente paso será definir `main()` con las funciones que queremos que se ejecuten.\n",
    "\n",
    "```py\n",
    "def main(distancias_de_caminata, numero_de_intentos, tipo_de_tendencia):\n",
    "\n",
    "    for pasos in distancias_de_caminata:\n",
    "        distancias = simular_caminata(pasos, numero_de_intentos, tipo_de_tendencia)\n",
    "        distancia_media = round(sum(distancias) / len(distancias), 4)\n",
    "        distancia_maxima = max(distancias)\n",
    "        distancia_minima = min(distancias)\n",
    "        print(f'{tipo_de_tendencia.__name__} caminata aleatoria de {pasos} pasos')\n",
    "        print(f'Media = {distancia_media}')\n",
    "        print(f'Distancia maxima = {distancia_maxima}')\n",
    "        print(f'Distancia minima = {distancia_minima}')\n",
    "```\n",
    "Nuestra funcion principal `main()` tendra como parámetros <i>la cantidad de pasos, el número de veces que se correrá la simulación, y la clase que utilizaremos</i>.\n",
    "\n",
    "Ahora, creamos un for para ejecute el siguiente bloque de instrucciones mientras aumenta una variable iteradora `pasos` que representará la cantidad de pasos que dará el individuo en la simulación. Dentro de ese bloque de código creamos la variable `distancias` que hará una llamada a una funcion `simular_caminata()` y guardará el valor arrojado por ella. \n",
    "\n",
    "Recordemos que se efectuara varias veces `caminata()` por lo que tendremos diferentes datos y lo que nos interesa son los valores medio, máximo y mínimo de las distancias. Las siguiente instrucciones son para obtener e impimir esos valores deseados usando funciones ya conocidas como `max()`, `min()` y una simple <i>media aritmética</i> redondeada a 3 decimales.\n",
    "\n",
    "---"
   ]
  },
  {
   "cell_type": "code",
   "execution_count": null,
   "id": "56849456",
   "metadata": {},
   "outputs": [],
   "source": []
  },
  {
   "cell_type": "markdown",
   "id": "ccd48cb2",
   "metadata": {},
   "source": [
    "Aquí es donde definimos la <i>cantidad de pasos</i> que queremos que el individuo efectúe en la simulación y podemos ver que definimos una <i>lista[ ]</i> de valores para tener una cantidad considerable de datos. Lo siguiente es definir cuantas veces vamos a ejecutar nuestra simulación que en este caso es de 100.\n",
    "\n",
    "Y ejecutamos el `main()` que es donde establecimos los datos que queremos que reciba nuestra simulación que en este caso serán la cantidad de pasos, el número de intentos de la simulación y la subclase `Aleatorio_Tradicional` junto con todo el bloque de intrucciones que escribimos dentro de la función.\n"
   ]
  },
  {
   "cell_type": "markdown",
   "id": "d1d62621",
   "metadata": {},
   "source": [
    "#### Visualizando la simulación\n"
   ]
  },
  {
   "cell_type": "code",
   "execution_count": null,
   "id": "a3b6b3be",
   "metadata": {},
   "outputs": [],
   "source": []
  },
  {
   "cell_type": "code",
   "execution_count": null,
   "id": "dc737e29",
   "metadata": {},
   "outputs": [],
   "source": []
  },
  {
   "cell_type": "code",
   "execution_count": null,
   "id": "ed105767",
   "metadata": {},
   "outputs": [],
   "source": []
  },
  {
   "cell_type": "code",
   "execution_count": null,
   "id": "f4dbdaaa",
   "metadata": {},
   "outputs": [],
   "source": []
  },
  {
   "cell_type": "code",
   "execution_count": null,
   "id": "04600fa8",
   "metadata": {},
   "outputs": [],
   "source": []
  }
 ],
 "metadata": {
  "kernelspec": {
   "display_name": "Python 3 (ipykernel)",
   "language": "python",
   "name": "python3"
  },
  "language_info": {
   "codemirror_mode": {
    "name": "ipython",
    "version": 3
   },
   "file_extension": ".py",
   "mimetype": "text/x-python",
   "name": "python",
   "nbconvert_exporter": "python",
   "pygments_lexer": "ipython3",
   "version": "3.8.12"
  }
 },
 "nbformat": 4,
 "nbformat_minor": 5
}
