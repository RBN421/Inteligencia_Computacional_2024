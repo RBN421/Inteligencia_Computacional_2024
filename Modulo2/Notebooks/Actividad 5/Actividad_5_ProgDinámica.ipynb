{
 "cells": [
  {
   "cell_type": "markdown",
   "metadata": {},
   "source": [
    "<img style=\"float: left;;\" src='Figures/alinco.png' /></a>\n",
    "\n",
    "# <center> <font color= #000047> Actividad 5: Programación Dinámica \n",
    "    \n",
    "___"
   ]
  },
  {
   "cell_type": "markdown",
   "metadata": {},
   "source": [
    "<h1> Nombre: </h1>\n",
    "<hr>   "
   ]
  },
  {
   "cell_type": "markdown",
   "metadata": {},
   "source": [
    "\n",
    "<div class=\"alert alert-success\">\n",
    "\n",
    "1.- Considere las siguiente imagen que se muestra acontinuación.Obtenga la ruta y la distancia óptima. Utilice una función para programación dinámica.\n",
    "</div>\n",
    "\n",
    "<div align=\"center\">\n",
    "    <img src=\"Figures/Rutas.png\" width=\"600\" height=\"600\" >\n",
    "    <h6>Rutas </h6>\n",
    "</div>\n",
    "\n",
    "\n",
    "<div align=\"center\">\n",
    "    <img src=\"Figures/sub_rutas.png\" width=\"600\" height=\"600\" >\n",
    "    <h6>sub rutas </h6>\n",
    "</div>\n"
   ]
  },
  {
   "cell_type": "code",
   "execution_count": null,
   "metadata": {},
   "outputs": [],
   "source": []
  }
 ],
 "metadata": {
  "kernelspec": {
   "display_name": "Python 3 (ipykernel)",
   "language": "python",
   "name": "python3"
  },
  "language_info": {
   "codemirror_mode": {
    "name": "ipython",
    "version": 3
   },
   "file_extension": ".py",
   "mimetype": "text/x-python",
   "name": "python",
   "nbconvert_exporter": "python",
   "pygments_lexer": "ipython3",
   "version": "3.8.12"
  }
 },
 "nbformat": 4,
 "nbformat_minor": 2
}
